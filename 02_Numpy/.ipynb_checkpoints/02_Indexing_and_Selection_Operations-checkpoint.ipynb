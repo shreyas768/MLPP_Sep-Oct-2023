{
 "cells": [
  {
   "cell_type": "code",
   "execution_count": 5,
   "id": "5418f925",
   "metadata": {},
   "outputs": [],
   "source": [
    "import numpy as np  #alias"
   ]
  },
  {
   "cell_type": "code",
   "execution_count": 7,
   "id": "f9a13acc",
   "metadata": {},
   "outputs": [],
   "source": [
    "arr = np.arange(0,40,4)"
   ]
  },
  {
   "cell_type": "code",
   "execution_count": 8,
   "id": "35f1a08c",
   "metadata": {},
   "outputs": [
    {
     "data": {
      "text/plain": [
       "array([ 0,  4,  8, 12, 16, 20, 24, 28, 32, 36])"
      ]
     },
     "execution_count": 8,
     "metadata": {},
     "output_type": "execute_result"
    }
   ],
   "source": [
    "arr"
   ]
  },
  {
   "cell_type": "markdown",
   "id": "661ba03a",
   "metadata": {},
   "source": [
    "# Bracket Indexing and Selection"
   ]
  },
  {
   "cell_type": "code",
   "execution_count": 9,
   "id": "35825164",
   "metadata": {},
   "outputs": [
    {
     "data": {
      "text/plain": [
       "8"
      ]
     },
     "execution_count": 9,
     "metadata": {},
     "output_type": "execute_result"
    }
   ],
   "source": [
    "arr[2]"
   ]
  },
  {
   "cell_type": "code",
   "execution_count": 10,
   "id": "b3bf9432",
   "metadata": {},
   "outputs": [
    {
     "data": {
      "text/plain": [
       "array([ 4,  8, 12, 16])"
      ]
     },
     "execution_count": 10,
     "metadata": {},
     "output_type": "execute_result"
    }
   ],
   "source": [
    "#getting values in a range\n",
    "arr[1:5]"
   ]
  },
  {
   "cell_type": "markdown",
   "id": "de421759",
   "metadata": {},
   "source": [
    "# Broadcasting\n",
    "\n",
    "numpy arrays are different from normal python list because of their ability to broadcast"
   ]
  },
  {
   "cell_type": "code",
   "execution_count": 11,
   "id": "cafe3560",
   "metadata": {},
   "outputs": [],
   "source": [
    "arr[1] = 100"
   ]
  },
  {
   "cell_type": "code",
   "execution_count": 12,
   "id": "7b9c2330",
   "metadata": {},
   "outputs": [
    {
     "data": {
      "text/plain": [
       "array([  0, 100,   8,  12,  16,  20,  24,  28,  32,  36])"
      ]
     },
     "execution_count": 12,
     "metadata": {},
     "output_type": "execute_result"
    }
   ],
   "source": [
    "arr"
   ]
  },
  {
   "cell_type": "code",
   "execution_count": 16,
   "id": "a854f9f6",
   "metadata": {},
   "outputs": [],
   "source": [
    "arr[1:5] = 100"
   ]
  },
  {
   "cell_type": "code",
   "execution_count": 17,
   "id": "4500565e",
   "metadata": {},
   "outputs": [
    {
     "data": {
      "text/plain": [
       "array([  0, 100, 100, 100, 100,  20,  24,  28,  32,  36])"
      ]
     },
     "execution_count": 17,
     "metadata": {},
     "output_type": "execute_result"
    }
   ],
   "source": [
    "arr"
   ]
  },
  {
   "cell_type": "code",
   "execution_count": 38,
   "id": "2fe362ec",
   "metadata": {},
   "outputs": [
    {
     "data": {
      "text/plain": [
       "array([ 0,  4,  8, 12, 16, 20, 24, 28, 32, 36])"
      ]
     },
     "execution_count": 38,
     "metadata": {},
     "output_type": "execute_result"
    }
   ],
   "source": [
    "arr = np.arange(0,40,4)\n",
    "arr"
   ]
  },
  {
   "cell_type": "code",
   "execution_count": 39,
   "id": "26609ad8",
   "metadata": {},
   "outputs": [],
   "source": [
    "arr_dup = arr.copy()"
   ]
  },
  {
   "cell_type": "code",
   "execution_count": 40,
   "id": "8c3b5124",
   "metadata": {},
   "outputs": [
    {
     "data": {
      "text/plain": [
       "array([ 0,  4,  8, 12, 16, 20])"
      ]
     },
     "execution_count": 40,
     "metadata": {},
     "output_type": "execute_result"
    }
   ],
   "source": [
    "slice_of_arr = arr_dup[0:6]\n",
    "slice_of_arr"
   ]
  },
  {
   "cell_type": "code",
   "execution_count": 41,
   "id": "1d92a8c9",
   "metadata": {},
   "outputs": [
    {
     "data": {
      "text/plain": [
       "array([10, 10, 10, 10, 10, 10])"
      ]
     },
     "execution_count": 41,
     "metadata": {},
     "output_type": "execute_result"
    }
   ],
   "source": [
    "slice_of_arr[:] = 10\n",
    "slice_of_arr"
   ]
  },
  {
   "cell_type": "code",
   "execution_count": 42,
   "id": "c5eff08f",
   "metadata": {},
   "outputs": [
    {
     "data": {
      "text/plain": [
       "array([10, 10, 10, 10, 10, 10, 24, 28, 32, 36])"
      ]
     },
     "execution_count": 42,
     "metadata": {},
     "output_type": "execute_result"
    }
   ],
   "source": [
    "arr_dup"
   ]
  },
  {
   "cell_type": "code",
   "execution_count": 43,
   "id": "0bccba47",
   "metadata": {},
   "outputs": [
    {
     "data": {
      "text/plain": [
       "array([ 0,  4,  8, 12, 16, 20, 24, 28, 32, 36])"
      ]
     },
     "execution_count": 43,
     "metadata": {},
     "output_type": "execute_result"
    }
   ],
   "source": [
    "arr"
   ]
  },
  {
   "cell_type": "markdown",
   "id": "b8c1f47a",
   "metadata": {},
   "source": [
    "# Indexing of 2-D array\n",
    "\n",
    "arr_2d[row][col] \n",
    "\n",
    "arr_2d[row,col]"
   ]
  },
  {
   "cell_type": "code",
   "execution_count": 44,
   "id": "83dbb124",
   "metadata": {},
   "outputs": [
    {
     "data": {
      "text/plain": [
       "array([[  1,   2,   3],\n",
       "       [ 11,  22,  33],\n",
       "       [111, 222, 333]])"
      ]
     },
     "execution_count": 44,
     "metadata": {},
     "output_type": "execute_result"
    }
   ],
   "source": [
    "arr_2d = np.array(([1,2,3],[11,22,33],[111,222,333]))\n",
    "arr_2d"
   ]
  },
  {
   "cell_type": "code",
   "execution_count": 54,
   "id": "ed34f5ce",
   "metadata": {},
   "outputs": [
    {
     "data": {
      "text/plain": [
       "array([11, 22, 33])"
      ]
     },
     "execution_count": 54,
     "metadata": {},
     "output_type": "execute_result"
    }
   ],
   "source": [
    "arr_2d[1]"
   ]
  },
  {
   "cell_type": "code",
   "execution_count": 46,
   "id": "b52537d9",
   "metadata": {},
   "outputs": [
    {
     "data": {
      "text/plain": [
       "array([11, 22, 33])"
      ]
     },
     "execution_count": 46,
     "metadata": {},
     "output_type": "execute_result"
    }
   ],
   "source": [
    "arr_2d[-2]"
   ]
  },
  {
   "cell_type": "code",
   "execution_count": 47,
   "id": "9197812d",
   "metadata": {},
   "outputs": [
    {
     "data": {
      "text/plain": [
       "33"
      ]
     },
     "execution_count": 47,
     "metadata": {},
     "output_type": "execute_result"
    }
   ],
   "source": [
    "arr_2d[1,2]"
   ]
  },
  {
   "cell_type": "code",
   "execution_count": 48,
   "id": "42ebf96c",
   "metadata": {},
   "outputs": [
    {
     "data": {
      "text/plain": [
       "33"
      ]
     },
     "execution_count": 48,
     "metadata": {},
     "output_type": "execute_result"
    }
   ],
   "source": [
    "arr_2d[-2,-1]"
   ]
  },
  {
   "cell_type": "code",
   "execution_count": 52,
   "id": "35b1e004",
   "metadata": {},
   "outputs": [
    {
     "data": {
      "text/plain": [
       "array([  3,  33, 333])"
      ]
     },
     "execution_count": 52,
     "metadata": {},
     "output_type": "execute_result"
    }
   ],
   "source": [
    "arr_2d[:,2]"
   ]
  },
  {
   "cell_type": "code",
   "execution_count": 56,
   "id": "eff912e3",
   "metadata": {},
   "outputs": [
    {
     "data": {
      "text/plain": [
       "array([[  1,   2,   3],\n",
       "       [ 11,  22,  33],\n",
       "       [111, 222, 333]])"
      ]
     },
     "execution_count": 56,
     "metadata": {},
     "output_type": "execute_result"
    }
   ],
   "source": [
    "arr_2d"
   ]
  },
  {
   "cell_type": "code",
   "execution_count": 55,
   "id": "d928fe30",
   "metadata": {},
   "outputs": [
    {
     "data": {
      "text/plain": [
       "array([[ 22,  33],\n",
       "       [222, 333]])"
      ]
     },
     "execution_count": 55,
     "metadata": {},
     "output_type": "execute_result"
    }
   ],
   "source": [
    "arr_2d[1:, 1:]"
   ]
  },
  {
   "cell_type": "markdown",
   "id": "37ab950d",
   "metadata": {},
   "source": [
    "# Selection"
   ]
  },
  {
   "cell_type": "code",
   "execution_count": 57,
   "id": "733bfcc5",
   "metadata": {},
   "outputs": [],
   "source": [
    "arr_sec = np.arange(1,21)"
   ]
  },
  {
   "cell_type": "code",
   "execution_count": 58,
   "id": "5570f7a4",
   "metadata": {},
   "outputs": [
    {
     "data": {
      "text/plain": [
       "array([ 1,  2,  3,  4,  5,  6,  7,  8,  9, 10, 11, 12, 13, 14, 15, 16, 17,\n",
       "       18, 19, 20])"
      ]
     },
     "execution_count": 58,
     "metadata": {},
     "output_type": "execute_result"
    }
   ],
   "source": [
    "arr_sec"
   ]
  },
  {
   "cell_type": "code",
   "execution_count": 62,
   "id": "121f82a3",
   "metadata": {},
   "outputs": [
    {
     "data": {
      "text/plain": [
       "array([False, False, False, False, False, False, False, False,  True,\n",
       "        True,  True,  True,  True,  True,  True,  True,  True,  True,\n",
       "        True,  True])"
      ]
     },
     "execution_count": 62,
     "metadata": {},
     "output_type": "execute_result"
    }
   ],
   "source": [
    "bool_arr = arr_sec> 2**3\n",
    "bool_arr"
   ]
  },
  {
   "cell_type": "code",
   "execution_count": 61,
   "id": "e266ea2d",
   "metadata": {},
   "outputs": [
    {
     "data": {
      "text/plain": [
       "array([ 9, 10, 11, 12, 13, 14, 15, 16, 17, 18, 19, 20])"
      ]
     },
     "execution_count": 61,
     "metadata": {},
     "output_type": "execute_result"
    }
   ],
   "source": [
    "arr_sec[bool_arr]"
   ]
  },
  {
   "cell_type": "code",
   "execution_count": 63,
   "id": "6cb286dc",
   "metadata": {},
   "outputs": [
    {
     "data": {
      "text/plain": [
       "array([ 9, 10, 11, 12, 13, 14, 15, 16, 17, 18, 19, 20])"
      ]
     },
     "execution_count": 63,
     "metadata": {},
     "output_type": "execute_result"
    }
   ],
   "source": [
    "arr_sec[arr_sec>2**3]"
   ]
  },
  {
   "cell_type": "code",
   "execution_count": 64,
   "id": "309e2b12",
   "metadata": {},
   "outputs": [
    {
     "data": {
      "text/plain": [
       "array([ 1,  2,  3,  4,  5,  6,  7,  8,  9, 10])"
      ]
     },
     "execution_count": 64,
     "metadata": {},
     "output_type": "execute_result"
    }
   ],
   "source": [
    "arr_sec[arr_sec<11]"
   ]
  },
  {
   "cell_type": "code",
   "execution_count": 68,
   "id": "63f0e6c2",
   "metadata": {},
   "outputs": [
    {
     "data": {
      "text/plain": [
       "array([[24,  3, 25, 16, 49],\n",
       "       [22,  6, 30, 46, 44],\n",
       "       [12, 36, 48,  8, 42],\n",
       "       [ 1, 29, 20,  4, 46],\n",
       "       [45, 43, 38, 11, 11],\n",
       "       [47, 35, 19, 16, 28],\n",
       "       [30, 45, 19,  2, 19],\n",
       "       [ 9, 35, 20,  1, 29],\n",
       "       [45, 49, 28, 38, 29],\n",
       "       [33, 36, 25, 31,  4]])"
      ]
     },
     "execution_count": 68,
     "metadata": {},
     "output_type": "execute_result"
    }
   ],
   "source": [
    "arr1 = np.random.randint(1,50,50).reshape(10,5)\n",
    "arr1"
   ]
  },
  {
   "cell_type": "markdown",
   "id": "11a21ea3",
   "metadata": {},
   "source": [
    "# Arithmetic"
   ]
  },
  {
   "cell_type": "code",
   "execution_count": 70,
   "id": "a263f962",
   "metadata": {},
   "outputs": [
    {
     "data": {
      "text/plain": [
       "array([ 0,  4,  8, 12, 16, 20, 24, 28, 32, 36])"
      ]
     },
     "execution_count": 70,
     "metadata": {},
     "output_type": "execute_result"
    }
   ],
   "source": [
    "arr"
   ]
  },
  {
   "cell_type": "code",
   "execution_count": 71,
   "id": "8487ff3b",
   "metadata": {},
   "outputs": [
    {
     "data": {
      "text/plain": [
       "array([  0,  12,  24,  36,  48,  60,  72,  84,  96, 108])"
      ]
     },
     "execution_count": 71,
     "metadata": {},
     "output_type": "execute_result"
    }
   ],
   "source": [
    "arr*3"
   ]
  },
  {
   "cell_type": "code",
   "execution_count": 72,
   "id": "7c03b798",
   "metadata": {},
   "outputs": [
    {
     "data": {
      "text/plain": [
       "array([0, 0, 0, 0, 0, 0, 0, 0, 0, 0])"
      ]
     },
     "execution_count": 72,
     "metadata": {},
     "output_type": "execute_result"
    }
   ],
   "source": [
    "arr-arr"
   ]
  },
  {
   "cell_type": "code",
   "execution_count": 73,
   "id": "5260f970",
   "metadata": {},
   "outputs": [
    {
     "name": "stderr",
     "output_type": "stream",
     "text": [
      "C:\\Users\\shrey\\AppData\\Local\\Temp\\ipykernel_5376\\1862401812.py:1: RuntimeWarning: invalid value encountered in divide\n",
      "  arr/arr\n"
     ]
    },
    {
     "data": {
      "text/plain": [
       "array([nan,  1.,  1.,  1.,  1.,  1.,  1.,  1.,  1.,  1.])"
      ]
     },
     "execution_count": 73,
     "metadata": {},
     "output_type": "execute_result"
    }
   ],
   "source": [
    "arr/arr"
   ]
  },
  {
   "cell_type": "code",
   "execution_count": 74,
   "id": "a35fd6f7",
   "metadata": {},
   "outputs": [
    {
     "name": "stderr",
     "output_type": "stream",
     "text": [
      "C:\\Users\\shrey\\AppData\\Local\\Temp\\ipykernel_5376\\255282349.py:1: RuntimeWarning: divide by zero encountered in divide\n",
      "  1/arr\n"
     ]
    },
    {
     "data": {
      "text/plain": [
       "array([       inf, 0.25      , 0.125     , 0.08333333, 0.0625    ,\n",
       "       0.05      , 0.04166667, 0.03571429, 0.03125   , 0.02777778])"
      ]
     },
     "execution_count": 74,
     "metadata": {},
     "output_type": "execute_result"
    }
   ],
   "source": [
    "1/arr"
   ]
  },
  {
   "cell_type": "code",
   "execution_count": 75,
   "id": "f61b44bb",
   "metadata": {},
   "outputs": [
    {
     "data": {
      "text/plain": [
       "array([0.        , 2.        , 2.82842712, 3.46410162, 4.        ,\n",
       "       4.47213595, 4.89897949, 5.29150262, 5.65685425, 6.        ])"
      ]
     },
     "execution_count": 75,
     "metadata": {},
     "output_type": "execute_result"
    }
   ],
   "source": [
    "arr**0.5"
   ]
  },
  {
   "cell_type": "markdown",
   "id": "5401ea19",
   "metadata": {},
   "source": [
    "# Universal Array Functions"
   ]
  },
  {
   "cell_type": "code",
   "execution_count": 76,
   "id": "8d00f4b7",
   "metadata": {},
   "outputs": [
    {
     "data": {
      "text/plain": [
       "array([0.        , 2.        , 2.82842712, 3.46410162, 4.        ,\n",
       "       4.47213595, 4.89897949, 5.29150262, 5.65685425, 6.        ])"
      ]
     },
     "execution_count": 76,
     "metadata": {},
     "output_type": "execute_result"
    }
   ],
   "source": [
    "np.sqrt(arr)"
   ]
  },
  {
   "cell_type": "code",
   "execution_count": 78,
   "id": "3c976349",
   "metadata": {},
   "outputs": [
    {
     "data": {
      "text/plain": [
       "array([1.00000000e+00, 5.45981500e+01, 2.98095799e+03, 1.62754791e+05,\n",
       "       8.88611052e+06, 4.85165195e+08, 2.64891221e+10, 1.44625706e+12,\n",
       "       7.89629602e+13, 4.31123155e+15])"
      ]
     },
     "execution_count": 78,
     "metadata": {},
     "output_type": "execute_result"
    }
   ],
   "source": [
    "np.exp(arr) #e^"
   ]
  },
  {
   "cell_type": "code",
   "execution_count": 79,
   "id": "52b5e79c",
   "metadata": {},
   "outputs": [
    {
     "data": {
      "text/plain": [
       "36"
      ]
     },
     "execution_count": 79,
     "metadata": {},
     "output_type": "execute_result"
    }
   ],
   "source": [
    "np.max(arr) #same as arr.max()"
   ]
  },
  {
   "cell_type": "code",
   "execution_count": 80,
   "id": "05cc0d66",
   "metadata": {},
   "outputs": [
    {
     "data": {
      "text/plain": [
       "array([ 0.        , -0.7568025 ,  0.98935825, -0.53657292, -0.28790332,\n",
       "        0.91294525, -0.90557836,  0.27090579,  0.55142668, -0.99177885])"
      ]
     },
     "execution_count": 80,
     "metadata": {},
     "output_type": "execute_result"
    }
   ],
   "source": [
    "np.sin(arr)"
   ]
  },
  {
   "cell_type": "code",
   "execution_count": 81,
   "id": "6c6ba250",
   "metadata": {},
   "outputs": [
    {
     "name": "stderr",
     "output_type": "stream",
     "text": [
      "C:\\Users\\shrey\\AppData\\Local\\Temp\\ipykernel_5376\\2153533263.py:1: RuntimeWarning: divide by zero encountered in log10\n",
      "  np.log10(arr)\n"
     ]
    },
    {
     "data": {
      "text/plain": [
       "array([      -inf, 0.60205999, 0.90308999, 1.07918125, 1.20411998,\n",
       "       1.30103   , 1.38021124, 1.44715803, 1.50514998, 1.5563025 ])"
      ]
     },
     "execution_count": 81,
     "metadata": {},
     "output_type": "execute_result"
    }
   ],
   "source": [
    "np.log10(arr)"
   ]
  },
  {
   "cell_type": "code",
   "execution_count": null,
   "id": "d580e1f1",
   "metadata": {},
   "outputs": [],
   "source": []
  }
 ],
 "metadata": {
  "kernelspec": {
   "display_name": "Python 3 (ipykernel)",
   "language": "python",
   "name": "python3"
  },
  "language_info": {
   "codemirror_mode": {
    "name": "ipython",
    "version": 3
   },
   "file_extension": ".py",
   "mimetype": "text/x-python",
   "name": "python",
   "nbconvert_exporter": "python",
   "pygments_lexer": "ipython3",
   "version": "3.11.3"
  }
 },
 "nbformat": 4,
 "nbformat_minor": 5
}
