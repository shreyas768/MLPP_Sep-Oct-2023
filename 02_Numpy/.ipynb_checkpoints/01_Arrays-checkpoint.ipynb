{
 "cells": [
  {
   "cell_type": "markdown",
   "id": "bfb993e9",
   "metadata": {},
   "source": [
    "Numpy: Numerical Python. most commonly used. supports large matrices and multi-dim data/table. consist of in-built mathematical functions. "
   ]
  },
  {
   "cell_type": "code",
   "execution_count": 1,
   "id": "635f0cbb",
   "metadata": {},
   "outputs": [],
   "source": [
    "import numpy as np"
   ]
  },
  {
   "cell_type": "code",
   "execution_count": 2,
   "id": "baddfcc2",
   "metadata": {},
   "outputs": [],
   "source": [
    "#conda install numpy "
   ]
  },
  {
   "cell_type": "markdown",
   "id": "40e78aef",
   "metadata": {},
   "source": [
    "# Numpy Arrays"
   ]
  },
  {
   "cell_type": "code",
   "execution_count": 3,
   "id": "ff525aa8",
   "metadata": {},
   "outputs": [
    {
     "data": {
      "text/plain": [
       "[1, 2, 3]"
      ]
     },
     "execution_count": 3,
     "metadata": {},
     "output_type": "execute_result"
    }
   ],
   "source": [
    "#Vectors: 1-d arrays\n",
    "lst = [1,2,3]\n",
    "lst"
   ]
  },
  {
   "cell_type": "code",
   "execution_count": 4,
   "id": "c1a688a8",
   "metadata": {},
   "outputs": [
    {
     "data": {
      "text/plain": [
       "array([1, 2, 3])"
      ]
     },
     "execution_count": 4,
     "metadata": {},
     "output_type": "execute_result"
    }
   ],
   "source": [
    "np.array(lst) #dimenson:1*3"
   ]
  },
  {
   "cell_type": "code",
   "execution_count": 5,
   "id": "90f8e0e3",
   "metadata": {},
   "outputs": [
    {
     "data": {
      "text/plain": [
       "[[1, 2, 3], [4, 5, 6], [7, 8, 9]]"
      ]
     },
     "execution_count": 5,
     "metadata": {},
     "output_type": "execute_result"
    }
   ],
   "source": [
    "mat = [[1,2,3],[4,5,6],[7,8,9]]\n",
    "mat"
   ]
  },
  {
   "cell_type": "code",
   "execution_count": 6,
   "id": "cf1f32e7",
   "metadata": {},
   "outputs": [
    {
     "data": {
      "text/plain": [
       "array([[1, 2, 3],\n",
       "       [4, 5, 6],\n",
       "       [7, 8, 9]])"
      ]
     },
     "execution_count": 6,
     "metadata": {},
     "output_type": "execute_result"
    }
   ],
   "source": [
    "np.array(mat)"
   ]
  },
  {
   "cell_type": "markdown",
   "id": "4854952d",
   "metadata": {},
   "source": [
    "# Built-in Methods"
   ]
  },
  {
   "cell_type": "code",
   "execution_count": 7,
   "id": "b39a3055",
   "metadata": {},
   "outputs": [
    {
     "data": {
      "text/plain": [
       "array([0, 1, 2, 3, 4, 5, 6, 7, 8, 9])"
      ]
     },
     "execution_count": 7,
     "metadata": {},
     "output_type": "execute_result"
    }
   ],
   "source": [
    "# arange\n",
    "\n",
    "np.arange(0,10)"
   ]
  },
  {
   "cell_type": "code",
   "execution_count": 8,
   "id": "cfcb25ea",
   "metadata": {},
   "outputs": [
    {
     "data": {
      "text/plain": [
       "array([0, 3, 6, 9])"
      ]
     },
     "execution_count": 8,
     "metadata": {},
     "output_type": "execute_result"
    }
   ],
   "source": [
    "np.arange(0,10,3)"
   ]
  },
  {
   "cell_type": "code",
   "execution_count": 9,
   "id": "963730f8",
   "metadata": {},
   "outputs": [
    {
     "data": {
      "text/plain": [
       "array([0., 0., 0.])"
      ]
     },
     "execution_count": 9,
     "metadata": {},
     "output_type": "execute_result"
    }
   ],
   "source": [
    "#zeros\n",
    "\n",
    "np.zeros(3)"
   ]
  },
  {
   "cell_type": "code",
   "execution_count": 10,
   "id": "e8293dc1",
   "metadata": {},
   "outputs": [
    {
     "data": {
      "text/plain": [
       "array([[0., 0., 0.],\n",
       "       [0., 0., 0.],\n",
       "       [0., 0., 0.]])"
      ]
     },
     "execution_count": 10,
     "metadata": {},
     "output_type": "execute_result"
    }
   ],
   "source": [
    "np.zeros((3,3))"
   ]
  },
  {
   "cell_type": "code",
   "execution_count": 11,
   "id": "6407066b",
   "metadata": {},
   "outputs": [
    {
     "data": {
      "text/plain": [
       "array([1., 1., 1.])"
      ]
     },
     "execution_count": 11,
     "metadata": {},
     "output_type": "execute_result"
    }
   ],
   "source": [
    "#ones\n",
    "\n",
    "np.ones(3)"
   ]
  },
  {
   "cell_type": "code",
   "execution_count": 12,
   "id": "b83bca7e",
   "metadata": {},
   "outputs": [
    {
     "data": {
      "text/plain": [
       "array([[1., 1., 1., 1., 1.],\n",
       "       [1., 1., 1., 1., 1.],\n",
       "       [1., 1., 1., 1., 1.]])"
      ]
     },
     "execution_count": 12,
     "metadata": {},
     "output_type": "execute_result"
    }
   ],
   "source": [
    "np.ones((3,5))"
   ]
  },
  {
   "cell_type": "markdown",
   "id": "6ccfd746",
   "metadata": {},
   "source": [
    "# Linspace"
   ]
  },
  {
   "cell_type": "code",
   "execution_count": 16,
   "id": "ff2ba080",
   "metadata": {},
   "outputs": [
    {
     "data": {
      "text/plain": [
       "array([ 0.        ,  0.1010101 ,  0.2020202 ,  0.3030303 ,  0.4040404 ,\n",
       "        0.50505051,  0.60606061,  0.70707071,  0.80808081,  0.90909091,\n",
       "        1.01010101,  1.11111111,  1.21212121,  1.31313131,  1.41414141,\n",
       "        1.51515152,  1.61616162,  1.71717172,  1.81818182,  1.91919192,\n",
       "        2.02020202,  2.12121212,  2.22222222,  2.32323232,  2.42424242,\n",
       "        2.52525253,  2.62626263,  2.72727273,  2.82828283,  2.92929293,\n",
       "        3.03030303,  3.13131313,  3.23232323,  3.33333333,  3.43434343,\n",
       "        3.53535354,  3.63636364,  3.73737374,  3.83838384,  3.93939394,\n",
       "        4.04040404,  4.14141414,  4.24242424,  4.34343434,  4.44444444,\n",
       "        4.54545455,  4.64646465,  4.74747475,  4.84848485,  4.94949495,\n",
       "        5.05050505,  5.15151515,  5.25252525,  5.35353535,  5.45454545,\n",
       "        5.55555556,  5.65656566,  5.75757576,  5.85858586,  5.95959596,\n",
       "        6.06060606,  6.16161616,  6.26262626,  6.36363636,  6.46464646,\n",
       "        6.56565657,  6.66666667,  6.76767677,  6.86868687,  6.96969697,\n",
       "        7.07070707,  7.17171717,  7.27272727,  7.37373737,  7.47474747,\n",
       "        7.57575758,  7.67676768,  7.77777778,  7.87878788,  7.97979798,\n",
       "        8.08080808,  8.18181818,  8.28282828,  8.38383838,  8.48484848,\n",
       "        8.58585859,  8.68686869,  8.78787879,  8.88888889,  8.98989899,\n",
       "        9.09090909,  9.19191919,  9.29292929,  9.39393939,  9.49494949,\n",
       "        9.5959596 ,  9.6969697 ,  9.7979798 ,  9.8989899 , 10.        ])"
      ]
     },
     "execution_count": 16,
     "metadata": {},
     "output_type": "execute_result"
    }
   ],
   "source": [
    "np.linspace(0,10,100)"
   ]
  },
  {
   "cell_type": "code",
   "execution_count": 17,
   "id": "400a4637",
   "metadata": {},
   "outputs": [
    {
     "data": {
      "text/plain": [
       "array([[1., 0., 0., 0., 0.],\n",
       "       [0., 1., 0., 0., 0.],\n",
       "       [0., 0., 1., 0., 0.],\n",
       "       [0., 0., 0., 1., 0.],\n",
       "       [0., 0., 0., 0., 1.]])"
      ]
     },
     "execution_count": 17,
     "metadata": {},
     "output_type": "execute_result"
    }
   ],
   "source": [
    "#eye\n",
    "\n",
    "np.eye(5)"
   ]
  },
  {
   "cell_type": "markdown",
   "id": "7da8e45c",
   "metadata": {},
   "source": [
    "# Random\n",
    "\n",
    "\n",
    "### rand (random numbers uniformly distributed from 0 to 1)"
   ]
  },
  {
   "cell_type": "code",
   "execution_count": 19,
   "id": "65e04da1",
   "metadata": {},
   "outputs": [
    {
     "data": {
      "text/plain": [
       "array([8.12808717e-01, 2.92780669e-01, 4.07768800e-01, 9.70428405e-01,\n",
       "       4.84050132e-01, 9.39189684e-01, 2.61419091e-01, 7.16466220e-01,\n",
       "       8.31517428e-01, 9.74995177e-01, 1.03082440e-01, 5.32975873e-01,\n",
       "       8.30760743e-01, 8.81042271e-01, 3.32896901e-01, 1.58865089e-01,\n",
       "       8.35346663e-01, 2.61618666e-01, 5.47041592e-01, 2.57293178e-01,\n",
       "       1.47992964e-01, 6.23087020e-01, 2.55891458e-02, 6.01865481e-01,\n",
       "       9.71727103e-01, 6.34191547e-01, 2.84020235e-01, 9.74023342e-01,\n",
       "       7.14709738e-01, 9.21155235e-01, 1.29124705e-01, 7.70742055e-01,\n",
       "       9.47693575e-01, 5.60977153e-02, 2.23836717e-01, 4.11609420e-02,\n",
       "       3.32112515e-04, 5.29704903e-01, 4.18015849e-01, 3.16109630e-01,\n",
       "       6.54635746e-01, 6.21681547e-01, 2.12241645e-01, 5.92074841e-01,\n",
       "       8.79016961e-01, 9.29112848e-01, 4.30086585e-01, 7.69464582e-01,\n",
       "       4.59031899e-01, 5.47707031e-01])"
      ]
     },
     "execution_count": 19,
     "metadata": {},
     "output_type": "execute_result"
    }
   ],
   "source": [
    "np.random.rand(50)"
   ]
  },
  {
   "cell_type": "code",
   "execution_count": 22,
   "id": "fbdf1a78",
   "metadata": {},
   "outputs": [
    {
     "data": {
      "text/plain": [
       "array([[0.50893293, 0.39582813, 0.37359933, 0.14222768, 0.1302983 ],\n",
       "       [0.21430831, 0.5076854 , 0.87753132, 0.35254318, 0.63753461],\n",
       "       [0.98931334, 0.54119258, 0.11631286, 0.95140026, 0.55933748],\n",
       "       [0.57033757, 0.30819988, 0.58230532, 0.04621146, 0.93783753],\n",
       "       [0.07559215, 0.61359461, 0.91625129, 0.89870782, 0.73971327]])"
      ]
     },
     "execution_count": 22,
     "metadata": {},
     "output_type": "execute_result"
    }
   ],
   "source": [
    "np.random.rand(5,5)"
   ]
  },
  {
   "cell_type": "code",
   "execution_count": 23,
   "id": "bb75fa19",
   "metadata": {},
   "outputs": [
    {
     "data": {
      "text/plain": [
       "array([[ 1.35535162, -1.13742126,  1.11555768,  0.3463474 , -0.34004734],\n",
       "       [ 1.54592693,  0.45188052,  0.93921746, -0.69604442,  0.33692119],\n",
       "       [-0.35627136, -1.3883139 , -0.59317594, -0.16309782,  2.51109074],\n",
       "       [ 0.63170129, -0.64653951,  1.92292928, -2.23317545, -0.31943611],\n",
       "       [-2.25941791,  0.56408551,  0.82416569,  0.51359571,  0.1128809 ]])"
      ]
     },
     "execution_count": 23,
     "metadata": {},
     "output_type": "execute_result"
    }
   ],
   "source": [
    "#for standard normal distribution centered around zero\n",
    "\n",
    "np.random.randn(5,5)"
   ]
  },
  {
   "cell_type": "code",
   "execution_count": 24,
   "id": "31d0af61",
   "metadata": {},
   "outputs": [
    {
     "data": {
      "text/plain": [
       "97"
      ]
     },
     "execution_count": 24,
     "metadata": {},
     "output_type": "execute_result"
    }
   ],
   "source": [
    "#randint\n",
    "\n",
    "np.random.randint(1,100)"
   ]
  },
  {
   "cell_type": "code",
   "execution_count": 32,
   "id": "a4803fbb",
   "metadata": {},
   "outputs": [
    {
     "data": {
      "text/plain": [
       "array([72, 80, 77, 13, 61, 92, 86,  4, 30, 56, 16, 19, 76, 72, 82, 18, 72,\n",
       "       30, 71, 54])"
      ]
     },
     "execution_count": 32,
     "metadata": {},
     "output_type": "execute_result"
    }
   ],
   "source": [
    "np.random.randint(1,100,20)"
   ]
  },
  {
   "cell_type": "code",
   "execution_count": 33,
   "id": "5cb02bed",
   "metadata": {},
   "outputs": [
    {
     "data": {
      "text/plain": [
       "array([[72, 99, 39, 54, 98],\n",
       "       [36, 23,  4, 77, 97],\n",
       "       [15, 67, 94, 67,  5],\n",
       "       [48, 58, 98, 13, 53]])"
      ]
     },
     "execution_count": 33,
     "metadata": {},
     "output_type": "execute_result"
    }
   ],
   "source": [
    "np.random.randint(1,100,(4,5))"
   ]
  },
  {
   "cell_type": "markdown",
   "id": "8d3d1acc",
   "metadata": {},
   "source": [
    "# Array Attributes and Methods"
   ]
  },
  {
   "cell_type": "code",
   "execution_count": 42,
   "id": "57d329f6",
   "metadata": {},
   "outputs": [],
   "source": [
    "arr = np.arange(30)\n",
    "ranar = np.random.randint(0,50,10)"
   ]
  },
  {
   "cell_type": "code",
   "execution_count": 43,
   "id": "a6557055",
   "metadata": {},
   "outputs": [
    {
     "data": {
      "text/plain": [
       "array([ 0,  1,  2,  3,  4,  5,  6,  7,  8,  9, 10, 11, 12, 13, 14, 15, 16,\n",
       "       17, 18, 19, 20, 21, 22, 23, 24, 25, 26, 27, 28, 29])"
      ]
     },
     "execution_count": 43,
     "metadata": {},
     "output_type": "execute_result"
    }
   ],
   "source": [
    "arr"
   ]
  },
  {
   "cell_type": "code",
   "execution_count": 36,
   "id": "44d6e171",
   "metadata": {},
   "outputs": [
    {
     "data": {
      "text/plain": [
       "array([48, 19, 43, 15, 19, 21, 40, 42, 31,  0])"
      ]
     },
     "execution_count": 36,
     "metadata": {},
     "output_type": "execute_result"
    }
   ],
   "source": [
    "ranar"
   ]
  },
  {
   "cell_type": "code",
   "execution_count": 37,
   "id": "dea8dc00",
   "metadata": {},
   "outputs": [
    {
     "data": {
      "text/plain": [
       "48"
      ]
     },
     "execution_count": 37,
     "metadata": {},
     "output_type": "execute_result"
    }
   ],
   "source": [
    "ranar.max()"
   ]
  },
  {
   "cell_type": "code",
   "execution_count": 38,
   "id": "01389539",
   "metadata": {},
   "outputs": [
    {
     "data": {
      "text/plain": [
       "0"
      ]
     },
     "execution_count": 38,
     "metadata": {},
     "output_type": "execute_result"
    }
   ],
   "source": [
    "ranar.min()"
   ]
  },
  {
   "cell_type": "code",
   "execution_count": 39,
   "id": "fdf46b45",
   "metadata": {},
   "outputs": [
    {
     "data": {
      "text/plain": [
       "0"
      ]
     },
     "execution_count": 39,
     "metadata": {},
     "output_type": "execute_result"
    }
   ],
   "source": [
    "ranar.argmax()"
   ]
  },
  {
   "cell_type": "code",
   "execution_count": 40,
   "id": "1daf650c",
   "metadata": {},
   "outputs": [
    {
     "data": {
      "text/plain": [
       "9"
      ]
     },
     "execution_count": 40,
     "metadata": {},
     "output_type": "execute_result"
    }
   ],
   "source": [
    "ranar.argmin()"
   ]
  },
  {
   "cell_type": "code",
   "execution_count": 45,
   "id": "897c4168",
   "metadata": {},
   "outputs": [],
   "source": [
    "arr_res = arr.reshape(3,10)"
   ]
  },
  {
   "cell_type": "code",
   "execution_count": 46,
   "id": "93777f7c",
   "metadata": {},
   "outputs": [
    {
     "data": {
      "text/plain": [
       "array([[ 0,  1,  2,  3,  4,  5,  6,  7,  8,  9],\n",
       "       [10, 11, 12, 13, 14, 15, 16, 17, 18, 19],\n",
       "       [20, 21, 22, 23, 24, 25, 26, 27, 28, 29]])"
      ]
     },
     "execution_count": 46,
     "metadata": {},
     "output_type": "execute_result"
    }
   ],
   "source": [
    "arr_res"
   ]
  },
  {
   "cell_type": "code",
   "execution_count": 47,
   "id": "25eddf9b",
   "metadata": {},
   "outputs": [
    {
     "data": {
      "text/plain": [
       "(3, 10)"
      ]
     },
     "execution_count": 47,
     "metadata": {},
     "output_type": "execute_result"
    }
   ],
   "source": [
    "arr_res.shape"
   ]
  },
  {
   "cell_type": "markdown",
   "id": "ad739d35",
   "metadata": {},
   "source": [
    "str, float, int, bool, datetime "
   ]
  },
  {
   "cell_type": "code",
   "execution_count": 49,
   "id": "cd714c50",
   "metadata": {},
   "outputs": [
    {
     "data": {
      "text/plain": [
       "dtype('int32')"
      ]
     },
     "execution_count": 49,
     "metadata": {},
     "output_type": "execute_result"
    }
   ],
   "source": [
    "ranar.dtype"
   ]
  },
  {
   "cell_type": "code",
   "execution_count": null,
   "id": "ff8666eb",
   "metadata": {},
   "outputs": [],
   "source": []
  }
 ],
 "metadata": {
  "kernelspec": {
   "display_name": "Python 3 (ipykernel)",
   "language": "python",
   "name": "python3"
  },
  "language_info": {
   "codemirror_mode": {
    "name": "ipython",
    "version": 3
   },
   "file_extension": ".py",
   "mimetype": "text/x-python",
   "name": "python",
   "nbconvert_exporter": "python",
   "pygments_lexer": "ipython3",
   "version": "3.11.3"
  }
 },
 "nbformat": 4,
 "nbformat_minor": 5
}
