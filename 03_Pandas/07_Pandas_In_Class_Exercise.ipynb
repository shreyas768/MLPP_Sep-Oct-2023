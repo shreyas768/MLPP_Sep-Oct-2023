{
 "cells": [
  {
   "cell_type": "code",
   "execution_count": 1,
   "id": "6bc15d97",
   "metadata": {},
   "outputs": [],
   "source": [
    "import numpy as np \n",
    "import pandas as pd"
   ]
  },
  {
   "cell_type": "code",
   "execution_count": 2,
   "id": "a493b5e1",
   "metadata": {},
   "outputs": [],
   "source": [
    "hotel = pd.read_csv(r\"C:\\Users\\shrey\\Desktop\\MLPP_iHUB_IITR_Sept_2023\\DATA\\hotel_booking_data.csv\")"
   ]
  },
  {
   "cell_type": "code",
   "execution_count": 3,
   "id": "f061b36b",
   "metadata": {},
   "outputs": [
    {
     "data": {
      "text/html": [
       "<div>\n",
       "<style scoped>\n",
       "    .dataframe tbody tr th:only-of-type {\n",
       "        vertical-align: middle;\n",
       "    }\n",
       "\n",
       "    .dataframe tbody tr th {\n",
       "        vertical-align: top;\n",
       "    }\n",
       "\n",
       "    .dataframe thead th {\n",
       "        text-align: right;\n",
       "    }\n",
       "</style>\n",
       "<table border=\"1\" class=\"dataframe\">\n",
       "  <thead>\n",
       "    <tr style=\"text-align: right;\">\n",
       "      <th></th>\n",
       "      <th>hotel</th>\n",
       "      <th>is_canceled</th>\n",
       "      <th>lead_time</th>\n",
       "      <th>arrival_date_year</th>\n",
       "      <th>arrival_date_month</th>\n",
       "      <th>arrival_date_week_number</th>\n",
       "      <th>arrival_date_day_of_month</th>\n",
       "      <th>stays_in_weekend_nights</th>\n",
       "      <th>stays_in_week_nights</th>\n",
       "      <th>adults</th>\n",
       "      <th>...</th>\n",
       "      <th>customer_type</th>\n",
       "      <th>adr</th>\n",
       "      <th>required_car_parking_spaces</th>\n",
       "      <th>total_of_special_requests</th>\n",
       "      <th>reservation_status</th>\n",
       "      <th>reservation_status_date</th>\n",
       "      <th>name</th>\n",
       "      <th>email</th>\n",
       "      <th>phone-number</th>\n",
       "      <th>credit_card</th>\n",
       "    </tr>\n",
       "  </thead>\n",
       "  <tbody>\n",
       "    <tr>\n",
       "      <th>0</th>\n",
       "      <td>Resort Hotel</td>\n",
       "      <td>0</td>\n",
       "      <td>342</td>\n",
       "      <td>2015</td>\n",
       "      <td>July</td>\n",
       "      <td>27</td>\n",
       "      <td>1</td>\n",
       "      <td>0</td>\n",
       "      <td>0</td>\n",
       "      <td>2</td>\n",
       "      <td>...</td>\n",
       "      <td>Transient</td>\n",
       "      <td>0.0</td>\n",
       "      <td>0</td>\n",
       "      <td>0</td>\n",
       "      <td>Check-Out</td>\n",
       "      <td>2015-07-01</td>\n",
       "      <td>Ernest Barnes</td>\n",
       "      <td>Ernest.Barnes31@outlook.com</td>\n",
       "      <td>669-792-1661</td>\n",
       "      <td>************4322</td>\n",
       "    </tr>\n",
       "    <tr>\n",
       "      <th>1</th>\n",
       "      <td>Resort Hotel</td>\n",
       "      <td>0</td>\n",
       "      <td>737</td>\n",
       "      <td>2015</td>\n",
       "      <td>July</td>\n",
       "      <td>27</td>\n",
       "      <td>1</td>\n",
       "      <td>0</td>\n",
       "      <td>0</td>\n",
       "      <td>2</td>\n",
       "      <td>...</td>\n",
       "      <td>Transient</td>\n",
       "      <td>0.0</td>\n",
       "      <td>0</td>\n",
       "      <td>0</td>\n",
       "      <td>Check-Out</td>\n",
       "      <td>2015-07-01</td>\n",
       "      <td>Andrea Baker</td>\n",
       "      <td>Andrea_Baker94@aol.com</td>\n",
       "      <td>858-637-6955</td>\n",
       "      <td>************9157</td>\n",
       "    </tr>\n",
       "  </tbody>\n",
       "</table>\n",
       "<p>2 rows × 36 columns</p>\n",
       "</div>"
      ],
      "text/plain": [
       "          hotel  is_canceled  lead_time  arrival_date_year arrival_date_month  \\\n",
       "0  Resort Hotel            0        342               2015               July   \n",
       "1  Resort Hotel            0        737               2015               July   \n",
       "\n",
       "   arrival_date_week_number  arrival_date_day_of_month  \\\n",
       "0                        27                          1   \n",
       "1                        27                          1   \n",
       "\n",
       "   stays_in_weekend_nights  stays_in_week_nights  adults  ...  customer_type  \\\n",
       "0                        0                     0       2  ...      Transient   \n",
       "1                        0                     0       2  ...      Transient   \n",
       "\n",
       "   adr required_car_parking_spaces total_of_special_requests  \\\n",
       "0  0.0                           0                         0   \n",
       "1  0.0                           0                         0   \n",
       "\n",
       "  reservation_status reservation_status_date           name  \\\n",
       "0          Check-Out              2015-07-01  Ernest Barnes   \n",
       "1          Check-Out              2015-07-01   Andrea Baker   \n",
       "\n",
       "                         email  phone-number       credit_card  \n",
       "0  Ernest.Barnes31@outlook.com  669-792-1661  ************4322  \n",
       "1       Andrea_Baker94@aol.com  858-637-6955  ************9157  \n",
       "\n",
       "[2 rows x 36 columns]"
      ]
     },
     "execution_count": 3,
     "metadata": {},
     "output_type": "execute_result"
    }
   ],
   "source": [
    "hotel.head(2)"
   ]
  },
  {
   "cell_type": "code",
   "execution_count": 4,
   "id": "5e6a00fe",
   "metadata": {},
   "outputs": [
    {
     "data": {
      "text/html": [
       "<div>\n",
       "<style scoped>\n",
       "    .dataframe tbody tr th:only-of-type {\n",
       "        vertical-align: middle;\n",
       "    }\n",
       "\n",
       "    .dataframe tbody tr th {\n",
       "        vertical-align: top;\n",
       "    }\n",
       "\n",
       "    .dataframe thead th {\n",
       "        text-align: right;\n",
       "    }\n",
       "</style>\n",
       "<table border=\"1\" class=\"dataframe\">\n",
       "  <thead>\n",
       "    <tr style=\"text-align: right;\">\n",
       "      <th></th>\n",
       "      <th>hotel</th>\n",
       "      <th>is_canceled</th>\n",
       "      <th>lead_time</th>\n",
       "      <th>arrival_date_year</th>\n",
       "      <th>arrival_date_month</th>\n",
       "      <th>arrival_date_week_number</th>\n",
       "      <th>arrival_date_day_of_month</th>\n",
       "      <th>stays_in_weekend_nights</th>\n",
       "      <th>stays_in_week_nights</th>\n",
       "      <th>adults</th>\n",
       "      <th>...</th>\n",
       "      <th>customer_type</th>\n",
       "      <th>adr</th>\n",
       "      <th>required_car_parking_spaces</th>\n",
       "      <th>total_of_special_requests</th>\n",
       "      <th>reservation_status</th>\n",
       "      <th>reservation_status_date</th>\n",
       "      <th>name</th>\n",
       "      <th>email</th>\n",
       "      <th>phone-number</th>\n",
       "      <th>credit_card</th>\n",
       "    </tr>\n",
       "  </thead>\n",
       "  <tbody>\n",
       "    <tr>\n",
       "      <th>119388</th>\n",
       "      <td>City Hotel</td>\n",
       "      <td>0</td>\n",
       "      <td>109</td>\n",
       "      <td>2017</td>\n",
       "      <td>August</td>\n",
       "      <td>35</td>\n",
       "      <td>31</td>\n",
       "      <td>2</td>\n",
       "      <td>5</td>\n",
       "      <td>2</td>\n",
       "      <td>...</td>\n",
       "      <td>Transient</td>\n",
       "      <td>104.4</td>\n",
       "      <td>0</td>\n",
       "      <td>0</td>\n",
       "      <td>Check-Out</td>\n",
       "      <td>2017-09-07</td>\n",
       "      <td>Caroline Conley MD</td>\n",
       "      <td>MD_Caroline@comcast.net</td>\n",
       "      <td>531-528-1017</td>\n",
       "      <td>************7860</td>\n",
       "    </tr>\n",
       "    <tr>\n",
       "      <th>119389</th>\n",
       "      <td>City Hotel</td>\n",
       "      <td>0</td>\n",
       "      <td>205</td>\n",
       "      <td>2017</td>\n",
       "      <td>August</td>\n",
       "      <td>35</td>\n",
       "      <td>29</td>\n",
       "      <td>2</td>\n",
       "      <td>7</td>\n",
       "      <td>2</td>\n",
       "      <td>...</td>\n",
       "      <td>Transient</td>\n",
       "      <td>151.2</td>\n",
       "      <td>0</td>\n",
       "      <td>2</td>\n",
       "      <td>Check-Out</td>\n",
       "      <td>2017-09-07</td>\n",
       "      <td>Ariana Michael</td>\n",
       "      <td>Ariana_M@xfinity.com</td>\n",
       "      <td>422-804-6403</td>\n",
       "      <td>************4482</td>\n",
       "    </tr>\n",
       "  </tbody>\n",
       "</table>\n",
       "<p>2 rows × 36 columns</p>\n",
       "</div>"
      ],
      "text/plain": [
       "             hotel  is_canceled  lead_time  arrival_date_year  \\\n",
       "119388  City Hotel            0        109               2017   \n",
       "119389  City Hotel            0        205               2017   \n",
       "\n",
       "       arrival_date_month  arrival_date_week_number  \\\n",
       "119388             August                        35   \n",
       "119389             August                        35   \n",
       "\n",
       "        arrival_date_day_of_month  stays_in_weekend_nights  \\\n",
       "119388                         31                        2   \n",
       "119389                         29                        2   \n",
       "\n",
       "        stays_in_week_nights  adults  ...  customer_type    adr  \\\n",
       "119388                     5       2  ...      Transient  104.4   \n",
       "119389                     7       2  ...      Transient  151.2   \n",
       "\n",
       "       required_car_parking_spaces total_of_special_requests  \\\n",
       "119388                           0                         0   \n",
       "119389                           0                         2   \n",
       "\n",
       "       reservation_status reservation_status_date                name  \\\n",
       "119388          Check-Out              2017-09-07  Caroline Conley MD   \n",
       "119389          Check-Out              2017-09-07      Ariana Michael   \n",
       "\n",
       "                          email  phone-number       credit_card  \n",
       "119388  MD_Caroline@comcast.net  531-528-1017  ************7860  \n",
       "119389     Ariana_M@xfinity.com  422-804-6403  ************4482  \n",
       "\n",
       "[2 rows x 36 columns]"
      ]
     },
     "execution_count": 4,
     "metadata": {},
     "output_type": "execute_result"
    }
   ],
   "source": [
    "hotel.tail(2)"
   ]
  },
  {
   "cell_type": "code",
   "execution_count": 5,
   "id": "201aa385",
   "metadata": {},
   "outputs": [
    {
     "data": {
      "text/plain": [
       "Index(['hotel', 'is_canceled', 'lead_time', 'arrival_date_year',\n",
       "       'arrival_date_month', 'arrival_date_week_number',\n",
       "       'arrival_date_day_of_month', 'stays_in_weekend_nights',\n",
       "       'stays_in_week_nights', 'adults', 'children', 'babies', 'meal',\n",
       "       'country', 'market_segment', 'distribution_channel',\n",
       "       'is_repeated_guest', 'previous_cancellations',\n",
       "       'previous_bookings_not_canceled', 'reserved_room_type',\n",
       "       'assigned_room_type', 'booking_changes', 'deposit_type', 'agent',\n",
       "       'company', 'days_in_waiting_list', 'customer_type', 'adr',\n",
       "       'required_car_parking_spaces', 'total_of_special_requests',\n",
       "       'reservation_status', 'reservation_status_date', 'name', 'email',\n",
       "       'phone-number', 'credit_card'],\n",
       "      dtype='object')"
      ]
     },
     "execution_count": 5,
     "metadata": {},
     "output_type": "execute_result"
    }
   ],
   "source": [
    "hotel.columns"
   ]
  },
  {
   "cell_type": "code",
   "execution_count": 6,
   "id": "4f5ef4a5",
   "metadata": {},
   "outputs": [
    {
     "data": {
      "text/html": [
       "<div>\n",
       "<style scoped>\n",
       "    .dataframe tbody tr th:only-of-type {\n",
       "        vertical-align: middle;\n",
       "    }\n",
       "\n",
       "    .dataframe tbody tr th {\n",
       "        vertical-align: top;\n",
       "    }\n",
       "\n",
       "    .dataframe thead th {\n",
       "        text-align: right;\n",
       "    }\n",
       "</style>\n",
       "<table border=\"1\" class=\"dataframe\">\n",
       "  <thead>\n",
       "    <tr style=\"text-align: right;\">\n",
       "      <th></th>\n",
       "      <th>children</th>\n",
       "      <th>babies</th>\n",
       "      <th>meal</th>\n",
       "      <th>country</th>\n",
       "      <th>market_segment</th>\n",
       "      <th>distribution_channel</th>\n",
       "      <th>is_repeated_guest</th>\n",
       "      <th>previous_cancellations</th>\n",
       "      <th>previous_bookings_not_canceled</th>\n",
       "      <th>reserved_room_type</th>\n",
       "      <th>assigned_room_type</th>\n",
       "      <th>booking_changes</th>\n",
       "      <th>deposit_type</th>\n",
       "      <th>agent</th>\n",
       "      <th>company</th>\n",
       "      <th>days_in_waiting_list</th>\n",
       "    </tr>\n",
       "  </thead>\n",
       "  <tbody>\n",
       "    <tr>\n",
       "      <th>0</th>\n",
       "      <td>0.0</td>\n",
       "      <td>0</td>\n",
       "      <td>BB</td>\n",
       "      <td>PRT</td>\n",
       "      <td>Direct</td>\n",
       "      <td>Direct</td>\n",
       "      <td>0</td>\n",
       "      <td>0</td>\n",
       "      <td>0</td>\n",
       "      <td>C</td>\n",
       "      <td>C</td>\n",
       "      <td>3</td>\n",
       "      <td>No Deposit</td>\n",
       "      <td>NaN</td>\n",
       "      <td>NaN</td>\n",
       "      <td>0</td>\n",
       "    </tr>\n",
       "    <tr>\n",
       "      <th>1</th>\n",
       "      <td>0.0</td>\n",
       "      <td>0</td>\n",
       "      <td>BB</td>\n",
       "      <td>PRT</td>\n",
       "      <td>Direct</td>\n",
       "      <td>Direct</td>\n",
       "      <td>0</td>\n",
       "      <td>0</td>\n",
       "      <td>0</td>\n",
       "      <td>C</td>\n",
       "      <td>C</td>\n",
       "      <td>4</td>\n",
       "      <td>No Deposit</td>\n",
       "      <td>NaN</td>\n",
       "      <td>NaN</td>\n",
       "      <td>0</td>\n",
       "    </tr>\n",
       "    <tr>\n",
       "      <th>2</th>\n",
       "      <td>0.0</td>\n",
       "      <td>0</td>\n",
       "      <td>BB</td>\n",
       "      <td>GBR</td>\n",
       "      <td>Direct</td>\n",
       "      <td>Direct</td>\n",
       "      <td>0</td>\n",
       "      <td>0</td>\n",
       "      <td>0</td>\n",
       "      <td>A</td>\n",
       "      <td>C</td>\n",
       "      <td>0</td>\n",
       "      <td>No Deposit</td>\n",
       "      <td>NaN</td>\n",
       "      <td>NaN</td>\n",
       "      <td>0</td>\n",
       "    </tr>\n",
       "    <tr>\n",
       "      <th>3</th>\n",
       "      <td>0.0</td>\n",
       "      <td>0</td>\n",
       "      <td>BB</td>\n",
       "      <td>GBR</td>\n",
       "      <td>Corporate</td>\n",
       "      <td>Corporate</td>\n",
       "      <td>0</td>\n",
       "      <td>0</td>\n",
       "      <td>0</td>\n",
       "      <td>A</td>\n",
       "      <td>A</td>\n",
       "      <td>0</td>\n",
       "      <td>No Deposit</td>\n",
       "      <td>304.0</td>\n",
       "      <td>NaN</td>\n",
       "      <td>0</td>\n",
       "    </tr>\n",
       "    <tr>\n",
       "      <th>4</th>\n",
       "      <td>0.0</td>\n",
       "      <td>0</td>\n",
       "      <td>BB</td>\n",
       "      <td>GBR</td>\n",
       "      <td>Online TA</td>\n",
       "      <td>TA/TO</td>\n",
       "      <td>0</td>\n",
       "      <td>0</td>\n",
       "      <td>0</td>\n",
       "      <td>A</td>\n",
       "      <td>A</td>\n",
       "      <td>0</td>\n",
       "      <td>No Deposit</td>\n",
       "      <td>240.0</td>\n",
       "      <td>NaN</td>\n",
       "      <td>0</td>\n",
       "    </tr>\n",
       "  </tbody>\n",
       "</table>\n",
       "</div>"
      ],
      "text/plain": [
       "   children  babies meal country market_segment distribution_channel  \\\n",
       "0       0.0       0   BB     PRT         Direct               Direct   \n",
       "1       0.0       0   BB     PRT         Direct               Direct   \n",
       "2       0.0       0   BB     GBR         Direct               Direct   \n",
       "3       0.0       0   BB     GBR      Corporate            Corporate   \n",
       "4       0.0       0   BB     GBR      Online TA                TA/TO   \n",
       "\n",
       "   is_repeated_guest  previous_cancellations  previous_bookings_not_canceled  \\\n",
       "0                  0                       0                               0   \n",
       "1                  0                       0                               0   \n",
       "2                  0                       0                               0   \n",
       "3                  0                       0                               0   \n",
       "4                  0                       0                               0   \n",
       "\n",
       "  reserved_room_type assigned_room_type  booking_changes deposit_type  agent  \\\n",
       "0                  C                  C                3   No Deposit    NaN   \n",
       "1                  C                  C                4   No Deposit    NaN   \n",
       "2                  A                  C                0   No Deposit    NaN   \n",
       "3                  A                  A                0   No Deposit  304.0   \n",
       "4                  A                  A                0   No Deposit  240.0   \n",
       "\n",
       "   company  days_in_waiting_list  \n",
       "0      NaN                     0  \n",
       "1      NaN                     0  \n",
       "2      NaN                     0  \n",
       "3      NaN                     0  \n",
       "4      NaN                     0  "
      ]
     },
     "execution_count": 6,
     "metadata": {},
     "output_type": "execute_result"
    }
   ],
   "source": [
    "hotel[['children', 'babies', 'meal',\n",
    "       'country', 'market_segment', 'distribution_channel',\n",
    "       'is_repeated_guest', 'previous_cancellations',\n",
    "       'previous_bookings_not_canceled', 'reserved_room_type',\n",
    "       'assigned_room_type', 'booking_changes', 'deposit_type', 'agent',\n",
    "       'company', 'days_in_waiting_list']].head(5)"
   ]
  },
  {
   "cell_type": "code",
   "execution_count": 7,
   "id": "68b34321",
   "metadata": {},
   "outputs": [
    {
     "name": "stdout",
     "output_type": "stream",
     "text": [
      "<class 'pandas.core.frame.DataFrame'>\n",
      "RangeIndex: 119390 entries, 0 to 119389\n",
      "Data columns (total 36 columns):\n",
      " #   Column                          Non-Null Count   Dtype  \n",
      "---  ------                          --------------   -----  \n",
      " 0   hotel                           119390 non-null  object \n",
      " 1   is_canceled                     119390 non-null  int64  \n",
      " 2   lead_time                       119390 non-null  int64  \n",
      " 3   arrival_date_year               119390 non-null  int64  \n",
      " 4   arrival_date_month              119390 non-null  object \n",
      " 5   arrival_date_week_number        119390 non-null  int64  \n",
      " 6   arrival_date_day_of_month       119390 non-null  int64  \n",
      " 7   stays_in_weekend_nights         119390 non-null  int64  \n",
      " 8   stays_in_week_nights            119390 non-null  int64  \n",
      " 9   adults                          119390 non-null  int64  \n",
      " 10  children                        119386 non-null  float64\n",
      " 11  babies                          119390 non-null  int64  \n",
      " 12  meal                            119390 non-null  object \n",
      " 13  country                         118902 non-null  object \n",
      " 14  market_segment                  119390 non-null  object \n",
      " 15  distribution_channel            119390 non-null  object \n",
      " 16  is_repeated_guest               119390 non-null  int64  \n",
      " 17  previous_cancellations          119390 non-null  int64  \n",
      " 18  previous_bookings_not_canceled  119390 non-null  int64  \n",
      " 19  reserved_room_type              119390 non-null  object \n",
      " 20  assigned_room_type              119390 non-null  object \n",
      " 21  booking_changes                 119390 non-null  int64  \n",
      " 22  deposit_type                    119390 non-null  object \n",
      " 23  agent                           103050 non-null  float64\n",
      " 24  company                         6797 non-null    float64\n",
      " 25  days_in_waiting_list            119390 non-null  int64  \n",
      " 26  customer_type                   119390 non-null  object \n",
      " 27  adr                             119390 non-null  float64\n",
      " 28  required_car_parking_spaces     119390 non-null  int64  \n",
      " 29  total_of_special_requests       119390 non-null  int64  \n",
      " 30  reservation_status              119390 non-null  object \n",
      " 31  reservation_status_date         119390 non-null  object \n",
      " 32  name                            119390 non-null  object \n",
      " 33  email                           119390 non-null  object \n",
      " 34  phone-number                    119390 non-null  object \n",
      " 35  credit_card                     119390 non-null  object \n",
      "dtypes: float64(4), int64(16), object(16)\n",
      "memory usage: 32.8+ MB\n"
     ]
    }
   ],
   "source": [
    "hotel.info()"
   ]
  },
  {
   "cell_type": "code",
   "execution_count": 8,
   "id": "47315f26",
   "metadata": {},
   "outputs": [
    {
     "data": {
      "text/plain": [
       "BB           92310\n",
       "HB           14463\n",
       "SC           10650\n",
       "Undefined     1169\n",
       "FB             798\n",
       "Name: meal, dtype: int64"
      ]
     },
     "execution_count": 8,
     "metadata": {},
     "output_type": "execute_result"
    }
   ],
   "source": [
    "hotel['meal'].value_counts()"
   ]
  },
  {
   "cell_type": "code",
   "execution_count": 9,
   "id": "edeef989",
   "metadata": {},
   "outputs": [
    {
     "data": {
      "text/plain": [
       "119390"
      ]
     },
     "execution_count": 9,
     "metadata": {},
     "output_type": "execute_result"
    }
   ],
   "source": [
    "#How many rows are there?\n",
    "len(hotel)"
   ]
  },
  {
   "cell_type": "code",
   "execution_count": 10,
   "id": "5d5437e5",
   "metadata": {},
   "outputs": [
    {
     "data": {
      "text/plain": [
       "(119390, 36)"
      ]
     },
     "execution_count": 10,
     "metadata": {},
     "output_type": "execute_result"
    }
   ],
   "source": [
    "hotel.shape"
   ]
  },
  {
   "cell_type": "code",
   "execution_count": 11,
   "id": "e4f1d5b6",
   "metadata": {},
   "outputs": [],
   "source": [
    "#How many missing data are there? which column has most missing data"
   ]
  },
  {
   "cell_type": "code",
   "execution_count": 12,
   "id": "6151994e",
   "metadata": {},
   "outputs": [
    {
     "data": {
      "text/plain": [
       "hotel                                  0\n",
       "is_canceled                            0\n",
       "lead_time                              0\n",
       "arrival_date_year                      0\n",
       "arrival_date_month                     0\n",
       "arrival_date_week_number               0\n",
       "arrival_date_day_of_month              0\n",
       "stays_in_weekend_nights                0\n",
       "stays_in_week_nights                   0\n",
       "adults                                 0\n",
       "children                               4\n",
       "babies                                 0\n",
       "meal                                   0\n",
       "country                              488\n",
       "market_segment                         0\n",
       "distribution_channel                   0\n",
       "is_repeated_guest                      0\n",
       "previous_cancellations                 0\n",
       "previous_bookings_not_canceled         0\n",
       "reserved_room_type                     0\n",
       "assigned_room_type                     0\n",
       "booking_changes                        0\n",
       "deposit_type                           0\n",
       "agent                              16340\n",
       "company                           112593\n",
       "days_in_waiting_list                   0\n",
       "customer_type                          0\n",
       "adr                                    0\n",
       "required_car_parking_spaces            0\n",
       "total_of_special_requests              0\n",
       "reservation_status                     0\n",
       "reservation_status_date                0\n",
       "name                                   0\n",
       "email                                  0\n",
       "phone-number                           0\n",
       "credit_card                            0\n",
       "dtype: int64"
      ]
     },
     "execution_count": 12,
     "metadata": {},
     "output_type": "execute_result"
    }
   ],
   "source": [
    "hotel.isnull().sum()"
   ]
  },
  {
   "cell_type": "code",
   "execution_count": 13,
   "id": "b08f146b",
   "metadata": {},
   "outputs": [
    {
     "name": "stdout",
     "output_type": "stream",
     "text": [
      "column with most missing data is 112593\n"
     ]
    }
   ],
   "source": [
    "print(f\"column with most missing data is {hotel['company'].isna().sum()}\")"
   ]
  },
  {
   "cell_type": "code",
   "execution_count": 14,
   "id": "cca84009",
   "metadata": {},
   "outputs": [
    {
     "data": {
      "text/plain": [
       "0.943068933746545"
      ]
     },
     "execution_count": 14,
     "metadata": {},
     "output_type": "execute_result"
    }
   ],
   "source": [
    "112593/119390"
   ]
  },
  {
   "cell_type": "code",
   "execution_count": 15,
   "id": "b9d17b4b",
   "metadata": {},
   "outputs": [],
   "source": [
    "# Drop 'company' column from dataset\n",
    "hotel.drop('company', axis=1,inplace=True)"
   ]
  },
  {
   "cell_type": "code",
   "execution_count": 16,
   "id": "4aad179a",
   "metadata": {},
   "outputs": [
    {
     "data": {
      "text/plain": [
       "(119390, 35)"
      ]
     },
     "execution_count": 16,
     "metadata": {},
     "output_type": "execute_result"
    }
   ],
   "source": [
    "hotel.shape"
   ]
  },
  {
   "cell_type": "code",
   "execution_count": 17,
   "id": "b3e24bc9",
   "metadata": {},
   "outputs": [
    {
     "data": {
      "text/plain": [
       "PRT    48590\n",
       "GBR    12129\n",
       "FRA    10415\n",
       "ESP     8568\n",
       "DEU     7287\n",
       "ITA     3766\n",
       "IRL     3375\n",
       "BEL     2342\n",
       "BRA     2224\n",
       "NLD     2104\n",
       "Name: country, dtype: int64"
      ]
     },
     "execution_count": 17,
     "metadata": {},
     "output_type": "execute_result"
    }
   ],
   "source": [
    "#customer from most countries (top 10)\n",
    "\n",
    "hotel['country'].value_counts()[:10]"
   ]
  },
  {
   "cell_type": "code",
   "execution_count": 18,
   "id": "e2ddbfb6",
   "metadata": {},
   "outputs": [
    {
     "data": {
      "text/plain": [
       "name                         Daniel Walter\n",
       "email           DanielWalter27@comcast.net\n",
       "phone-number                  865-280-5832\n",
       "adr                                 5400.0\n",
       "Name: 48515, dtype: object"
      ]
     },
     "execution_count": 18,
     "metadata": {},
     "output_type": "execute_result"
    }
   ],
   "source": [
    "#Person who paid highest adr\n",
    "\n",
    "hotel.sort_values(by='adr', ascending= False)[['name','email','phone-number', 'adr']].iloc[0]"
   ]
  },
  {
   "cell_type": "code",
   "execution_count": 20,
   "id": "d1fded7f",
   "metadata": {},
   "outputs": [
    {
     "data": {
      "text/plain": [
       "101.83112153446686"
      ]
     },
     "execution_count": 20,
     "metadata": {},
     "output_type": "execute_result"
    }
   ],
   "source": [
    "#find mean adr across the dataset\n",
    "hotel['adr'].mean()"
   ]
  },
  {
   "cell_type": "code",
   "execution_count": 22,
   "id": "e4978e21",
   "metadata": {},
   "outputs": [
    {
     "data": {
      "text/plain": [
       "3.43"
      ]
     },
     "execution_count": 22,
     "metadata": {},
     "output_type": "execute_result"
    }
   ],
   "source": [
    "#find mean number of nights for a stay. round this to 2 decimal points\n",
    "hotel['total_stay_nights'] = hotel['stays_in_week_nights']+hotel['stays_in_weekend_nights']\n",
    "round(hotel['total_stay_nights'].mean(),2)"
   ]
  },
  {
   "cell_type": "code",
   "execution_count": 24,
   "id": "f34cbadf",
   "metadata": {},
   "outputs": [
    {
     "data": {
      "text/plain": [
       "357.85"
      ]
     },
     "execution_count": 24,
     "metadata": {},
     "output_type": "execute_result"
    }
   ],
   "source": [
    "#find avg total cost for a stay. round this to 2 decimal points\n",
    "hotel['total_paid_amt'] = hotel['adr']*hotel['total_stay_nights']\n",
    "round(hotel['total_paid_amt'].mean(),2)"
   ]
  },
  {
   "cell_type": "code",
   "execution_count": 30,
   "id": "80a493d7",
   "metadata": {},
   "outputs": [
    {
     "data": {
      "text/html": [
       "<div>\n",
       "<style scoped>\n",
       "    .dataframe tbody tr th:only-of-type {\n",
       "        vertical-align: middle;\n",
       "    }\n",
       "\n",
       "    .dataframe tbody tr th {\n",
       "        vertical-align: top;\n",
       "    }\n",
       "\n",
       "    .dataframe thead th {\n",
       "        text-align: right;\n",
       "    }\n",
       "</style>\n",
       "<table border=\"1\" class=\"dataframe\">\n",
       "  <thead>\n",
       "    <tr style=\"text-align: right;\">\n",
       "      <th></th>\n",
       "      <th>name</th>\n",
       "      <th>email</th>\n",
       "    </tr>\n",
       "  </thead>\n",
       "  <tbody>\n",
       "    <tr>\n",
       "      <th>7860</th>\n",
       "      <td>Amanda Harper</td>\n",
       "      <td>Amanda.H66@yahoo.com</td>\n",
       "    </tr>\n",
       "    <tr>\n",
       "      <th>11125</th>\n",
       "      <td>Laura Sanders</td>\n",
       "      <td>Sanders_Laura@hotmail.com</td>\n",
       "    </tr>\n",
       "    <tr>\n",
       "      <th>14596</th>\n",
       "      <td>Tommy Ortiz</td>\n",
       "      <td>Tommy_O@hotmail.com</td>\n",
       "    </tr>\n",
       "    <tr>\n",
       "      <th>14921</th>\n",
       "      <td>Gilbert Miller</td>\n",
       "      <td>Miller.Gilbert@aol.com</td>\n",
       "    </tr>\n",
       "    <tr>\n",
       "      <th>14922</th>\n",
       "      <td>Timothy Torres</td>\n",
       "      <td>TTorres@protonmail.com</td>\n",
       "    </tr>\n",
       "    <tr>\n",
       "      <th>24630</th>\n",
       "      <td>Jennifer Weaver</td>\n",
       "      <td>Jennifer_W@aol.com</td>\n",
       "    </tr>\n",
       "    <tr>\n",
       "      <th>27288</th>\n",
       "      <td>Crystal Horton</td>\n",
       "      <td>Crystal.H@mail.com</td>\n",
       "    </tr>\n",
       "    <tr>\n",
       "      <th>27477</th>\n",
       "      <td>Brittney Burke</td>\n",
       "      <td>Burke_Brittney16@att.com</td>\n",
       "    </tr>\n",
       "    <tr>\n",
       "      <th>29906</th>\n",
       "      <td>Cynthia Cabrera</td>\n",
       "      <td>Cabrera.Cynthia@xfinity.com</td>\n",
       "    </tr>\n",
       "    <tr>\n",
       "      <th>29949</th>\n",
       "      <td>Sarah Floyd</td>\n",
       "      <td>Sarah_F@gmail.com</td>\n",
       "    </tr>\n",
       "    <tr>\n",
       "      <th>32267</th>\n",
       "      <td>Michelle Villa</td>\n",
       "      <td>Michelle.Villa@aol.com</td>\n",
       "    </tr>\n",
       "    <tr>\n",
       "      <th>39027</th>\n",
       "      <td>Nichole Hebert</td>\n",
       "      <td>Hebert.Nichole@gmail.com</td>\n",
       "    </tr>\n",
       "    <tr>\n",
       "      <th>39129</th>\n",
       "      <td>Lindsey Mckenzie</td>\n",
       "      <td>Lindsey.Mckenzie@att.com</td>\n",
       "    </tr>\n",
       "    <tr>\n",
       "      <th>39525</th>\n",
       "      <td>Ashley Edwards</td>\n",
       "      <td>Edwards.Ashley@yahoo.com</td>\n",
       "    </tr>\n",
       "    <tr>\n",
       "      <th>70114</th>\n",
       "      <td>Christopher Torres</td>\n",
       "      <td>Torres.Christopher@gmail.com</td>\n",
       "    </tr>\n",
       "    <tr>\n",
       "      <th>78819</th>\n",
       "      <td>Mrs. Tara Sullivan DVM</td>\n",
       "      <td>Mrs..DVM@xfinity.com</td>\n",
       "    </tr>\n",
       "    <tr>\n",
       "      <th>78820</th>\n",
       "      <td>Michaela Brown</td>\n",
       "      <td>MichaelaBrown@att.com</td>\n",
       "    </tr>\n",
       "    <tr>\n",
       "      <th>78822</th>\n",
       "      <td>Kurt Maldonado MD</td>\n",
       "      <td>KMD15@xfinity.com</td>\n",
       "    </tr>\n",
       "    <tr>\n",
       "      <th>97072</th>\n",
       "      <td>Jason Richardson</td>\n",
       "      <td>Jason.R@zoho.com</td>\n",
       "    </tr>\n",
       "    <tr>\n",
       "      <th>97099</th>\n",
       "      <td>Terri Hurley</td>\n",
       "      <td>THurley@xfinity.com</td>\n",
       "    </tr>\n",
       "    <tr>\n",
       "      <th>97261</th>\n",
       "      <td>Mrs. Caitlin Webb</td>\n",
       "      <td>Mrs._W@comcast.net</td>\n",
       "    </tr>\n",
       "    <tr>\n",
       "      <th>98410</th>\n",
       "      <td>Holly Arroyo</td>\n",
       "      <td>Arroyo_Holly@mail.com</td>\n",
       "    </tr>\n",
       "    <tr>\n",
       "      <th>98674</th>\n",
       "      <td>Denise Campbell</td>\n",
       "      <td>Denise_C@gmail.com</td>\n",
       "    </tr>\n",
       "    <tr>\n",
       "      <th>99887</th>\n",
       "      <td>Michael Smith</td>\n",
       "      <td>Michael.S42@aol.com</td>\n",
       "    </tr>\n",
       "    <tr>\n",
       "      <th>99888</th>\n",
       "      <td>Dr. Trevor Sellers</td>\n",
       "      <td>Dr._S@aol.com</td>\n",
       "    </tr>\n",
       "    <tr>\n",
       "      <th>101569</th>\n",
       "      <td>Kayla Murphy</td>\n",
       "      <td>Kayla.Murphy@yahoo.com</td>\n",
       "    </tr>\n",
       "    <tr>\n",
       "      <th>102061</th>\n",
       "      <td>Taylor Martinez</td>\n",
       "      <td>Taylor.Martinez@hotmail.com</td>\n",
       "    </tr>\n",
       "    <tr>\n",
       "      <th>109511</th>\n",
       "      <td>Charles Wilson</td>\n",
       "      <td>Charles_Wilson@yahoo.com</td>\n",
       "    </tr>\n",
       "    <tr>\n",
       "      <th>109590</th>\n",
       "      <td>Tyler Allison</td>\n",
       "      <td>Tyler.A@protonmail.com</td>\n",
       "    </tr>\n",
       "    <tr>\n",
       "      <th>110082</th>\n",
       "      <td>Matthew Bailey</td>\n",
       "      <td>Matthew_Bailey@aol.com</td>\n",
       "    </tr>\n",
       "    <tr>\n",
       "      <th>110083</th>\n",
       "      <td>Charlotte Acevedo</td>\n",
       "      <td>Charlotte_A@verizon.com</td>\n",
       "    </tr>\n",
       "    <tr>\n",
       "      <th>111909</th>\n",
       "      <td>Darrell Brennan</td>\n",
       "      <td>Brennan_Darrell51@hotmail.com</td>\n",
       "    </tr>\n",
       "    <tr>\n",
       "      <th>111911</th>\n",
       "      <td>Melinda Jensen</td>\n",
       "      <td>MelindaJensen@zoho.com</td>\n",
       "    </tr>\n",
       "    <tr>\n",
       "      <th>113915</th>\n",
       "      <td>Terry Arnold</td>\n",
       "      <td>Arnold.Terry@zoho.com</td>\n",
       "    </tr>\n",
       "    <tr>\n",
       "      <th>114770</th>\n",
       "      <td>Mary Nguyen</td>\n",
       "      <td>Nguyen.Mary@protonmail.com</td>\n",
       "    </tr>\n",
       "    <tr>\n",
       "      <th>114909</th>\n",
       "      <td>Lindsay Cuevas</td>\n",
       "      <td>Lindsay.Cuevas40@mail.com</td>\n",
       "    </tr>\n",
       "    <tr>\n",
       "      <th>116455</th>\n",
       "      <td>Cynthia Hernandez</td>\n",
       "      <td>CynthiaHernandez@xfinity.com</td>\n",
       "    </tr>\n",
       "    <tr>\n",
       "      <th>116457</th>\n",
       "      <td>Angela Hawkins</td>\n",
       "      <td>Angela_H@gmail.com</td>\n",
       "    </tr>\n",
       "    <tr>\n",
       "      <th>118817</th>\n",
       "      <td>Sue Lawson</td>\n",
       "      <td>Sue.L52@comcast.net</td>\n",
       "    </tr>\n",
       "    <tr>\n",
       "      <th>119161</th>\n",
       "      <td>Alyssa Richards</td>\n",
       "      <td>Alyssa_Richards@aol.com</td>\n",
       "    </tr>\n",
       "  </tbody>\n",
       "</table>\n",
       "</div>"
      ],
      "text/plain": [
       "                          name                          email\n",
       "7860             Amanda Harper           Amanda.H66@yahoo.com\n",
       "11125            Laura Sanders      Sanders_Laura@hotmail.com\n",
       "14596              Tommy Ortiz            Tommy_O@hotmail.com\n",
       "14921           Gilbert Miller         Miller.Gilbert@aol.com\n",
       "14922           Timothy Torres         TTorres@protonmail.com\n",
       "24630          Jennifer Weaver             Jennifer_W@aol.com\n",
       "27288           Crystal Horton             Crystal.H@mail.com\n",
       "27477           Brittney Burke       Burke_Brittney16@att.com\n",
       "29906          Cynthia Cabrera    Cabrera.Cynthia@xfinity.com\n",
       "29949              Sarah Floyd              Sarah_F@gmail.com\n",
       "32267           Michelle Villa         Michelle.Villa@aol.com\n",
       "39027           Nichole Hebert       Hebert.Nichole@gmail.com\n",
       "39129         Lindsey Mckenzie       Lindsey.Mckenzie@att.com\n",
       "39525           Ashley Edwards       Edwards.Ashley@yahoo.com\n",
       "70114       Christopher Torres   Torres.Christopher@gmail.com\n",
       "78819   Mrs. Tara Sullivan DVM           Mrs..DVM@xfinity.com\n",
       "78820           Michaela Brown          MichaelaBrown@att.com\n",
       "78822        Kurt Maldonado MD              KMD15@xfinity.com\n",
       "97072         Jason Richardson               Jason.R@zoho.com\n",
       "97099             Terri Hurley            THurley@xfinity.com\n",
       "97261        Mrs. Caitlin Webb             Mrs._W@comcast.net\n",
       "98410             Holly Arroyo          Arroyo_Holly@mail.com\n",
       "98674          Denise Campbell             Denise_C@gmail.com\n",
       "99887            Michael Smith            Michael.S42@aol.com\n",
       "99888       Dr. Trevor Sellers                  Dr._S@aol.com\n",
       "101569            Kayla Murphy         Kayla.Murphy@yahoo.com\n",
       "102061         Taylor Martinez    Taylor.Martinez@hotmail.com\n",
       "109511          Charles Wilson       Charles_Wilson@yahoo.com\n",
       "109590           Tyler Allison         Tyler.A@protonmail.com\n",
       "110082          Matthew Bailey         Matthew_Bailey@aol.com\n",
       "110083       Charlotte Acevedo        Charlotte_A@verizon.com\n",
       "111909         Darrell Brennan  Brennan_Darrell51@hotmail.com\n",
       "111911          Melinda Jensen         MelindaJensen@zoho.com\n",
       "113915            Terry Arnold          Arnold.Terry@zoho.com\n",
       "114770             Mary Nguyen     Nguyen.Mary@protonmail.com\n",
       "114909          Lindsay Cuevas      Lindsay.Cuevas40@mail.com\n",
       "116455       Cynthia Hernandez   CynthiaHernandez@xfinity.com\n",
       "116457          Angela Hawkins             Angela_H@gmail.com\n",
       "118817              Sue Lawson            Sue.L52@comcast.net\n",
       "119161         Alyssa Richards        Alyssa_Richards@aol.com"
      ]
     },
     "execution_count": 30,
     "metadata": {},
     "output_type": "execute_result"
    }
   ],
   "source": [
    "#get name and email of people who made 5 'special requests'\n",
    "hotel[hotel['total_of_special_requests']==5][['name','email']]"
   ]
  },
  {
   "cell_type": "code",
   "execution_count": 37,
   "id": "109f21aa",
   "metadata": {},
   "outputs": [
    {
     "data": {
      "text/plain": [
       "0    115580\n",
       "1      3810\n",
       "Name: is_repeated_guest, dtype: int64"
      ]
     },
     "execution_count": 37,
     "metadata": {},
     "output_type": "execute_result"
    }
   ],
   "source": [
    "hotel['is_repeated_guest'].value_counts()"
   ]
  },
  {
   "cell_type": "code",
   "execution_count": 29,
   "id": "b2149b29",
   "metadata": {},
   "outputs": [
    {
     "data": {
      "text/plain": [
       "3.19"
      ]
     },
     "execution_count": 29,
     "metadata": {},
     "output_type": "execute_result"
    }
   ],
   "source": [
    "#percentage of hotel guests classified as 'repeated guests'\n",
    "round(100*sum(hotel['is_repeated_guest']==1)/len(hotel),2)"
   ]
  },
  {
   "cell_type": "code",
   "execution_count": 35,
   "id": "0774b4ec",
   "metadata": {},
   "outputs": [
    {
     "data": {
      "text/plain": [
       "Smith       2503\n",
       "Johnson     1990\n",
       "Williams    1618\n",
       "Jones       1434\n",
       "Brown       1423\n",
       "Name: name, dtype: int64"
      ]
     },
     "execution_count": 35,
     "metadata": {},
     "output_type": "execute_result"
    }
   ],
   "source": [
    "#top 5 most common last name\n",
    "#optional: do it in single line of code\n",
    "\n",
    "hotel['name'].apply(lambda name : name.split()[-1]).value_counts()[:5]"
   ]
  },
  {
   "cell_type": "code",
   "execution_count": 41,
   "id": "cbebe8dd",
   "metadata": {},
   "outputs": [
    {
     "data": {
      "text/plain": [
       "array([ 1,  2,  3,  4,  5,  6,  7,  8,  9, 10, 11, 12, 13, 14, 15, 16, 17,\n",
       "       18, 19, 20, 21, 22, 23, 24, 25, 26, 27, 28, 29, 30, 31],\n",
       "      dtype=int64)"
      ]
     },
     "execution_count": 41,
     "metadata": {},
     "output_type": "execute_result"
    }
   ],
   "source": [
    "hotel['arrival_date_day_of_month'].unique()"
   ]
  },
  {
   "cell_type": "code",
   "execution_count": 43,
   "id": "5a838d08",
   "metadata": {},
   "outputs": [
    {
     "data": {
      "text/plain": [
       "58152"
      ]
     },
     "execution_count": 43,
     "metadata": {},
     "output_type": "execute_result"
    }
   ],
   "source": [
    "#total arrivals took place between 1st and 15th (both inclusive) of a month\n",
    "#optional: do it in single line of code\n",
    "#hint: apply(lambda : ) on 'arrival_date_day_of_month' column\n",
    "\n",
    "hotel['arrival_date_day_of_month'].apply(lambda x : x in range(1,16)).sum()"
   ]
  },
  {
   "cell_type": "code",
   "execution_count": 47,
   "id": "b8025458",
   "metadata": {},
   "outputs": [
    {
     "data": {
      "text/plain": [
       "799    168\n",
       "185    167\n",
       "541    166\n",
       "Name: phone-number, dtype: int64"
      ]
     },
     "execution_count": 47,
     "metadata": {},
     "output_type": "execute_result"
    }
   ],
   "source": [
    "# Top 3 most common area code\n",
    "\n",
    "hotel['phone-number'].apply(lambda x : x[:3]).value_counts()[:3]"
   ]
  },
  {
   "cell_type": "code",
   "execution_count": null,
   "id": "76904ea4",
   "metadata": {},
   "outputs": [],
   "source": []
  }
 ],
 "metadata": {
  "kernelspec": {
   "display_name": "Python 3 (ipykernel)",
   "language": "python",
   "name": "python3"
  },
  "language_info": {
   "codemirror_mode": {
    "name": "ipython",
    "version": 3
   },
   "file_extension": ".py",
   "mimetype": "text/x-python",
   "name": "python",
   "nbconvert_exporter": "python",
   "pygments_lexer": "ipython3",
   "version": "3.11.3"
  }
 },
 "nbformat": 4,
 "nbformat_minor": 5
}
