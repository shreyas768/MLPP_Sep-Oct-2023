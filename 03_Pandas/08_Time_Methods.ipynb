{
 "cells": [
  {
   "cell_type": "code",
   "execution_count": 1,
   "id": "b0f85965",
   "metadata": {},
   "outputs": [],
   "source": [
    "from datetime import datetime"
   ]
  },
  {
   "cell_type": "code",
   "execution_count": 2,
   "id": "324f955a",
   "metadata": {},
   "outputs": [],
   "source": [
    "my_year = 2023\n",
    "my_month = 9\n",
    "my_day = 21\n",
    "my_hour = 19\n",
    "my_minute = 7\n",
    "my_seconds = 11"
   ]
  },
  {
   "cell_type": "code",
   "execution_count": 4,
   "id": "cb09229d",
   "metadata": {},
   "outputs": [
    {
     "data": {
      "text/plain": [
       "int"
      ]
     },
     "execution_count": 4,
     "metadata": {},
     "output_type": "execute_result"
    }
   ],
   "source": [
    "type(my_hour)"
   ]
  },
  {
   "cell_type": "code",
   "execution_count": 6,
   "id": "baaf766e",
   "metadata": {},
   "outputs": [],
   "source": [
    "dt = datetime(my_year,my_month,my_day, my_hour,my_minute,my_seconds )"
   ]
  },
  {
   "cell_type": "code",
   "execution_count": 7,
   "id": "4c0b34e8",
   "metadata": {},
   "outputs": [
    {
     "data": {
      "text/plain": [
       "datetime.datetime(2023, 9, 21, 19, 7, 11)"
      ]
     },
     "execution_count": 7,
     "metadata": {},
     "output_type": "execute_result"
    }
   ],
   "source": [
    "dt"
   ]
  },
  {
   "cell_type": "code",
   "execution_count": 11,
   "id": "b17958e4",
   "metadata": {},
   "outputs": [
    {
     "data": {
      "text/plain": [
       "int"
      ]
     },
     "execution_count": 11,
     "metadata": {},
     "output_type": "execute_result"
    }
   ],
   "source": [
    "type(dt.year)"
   ]
  },
  {
   "cell_type": "markdown",
   "id": "386aa391",
   "metadata": {},
   "source": [
    "# Pandas"
   ]
  },
  {
   "cell_type": "code",
   "execution_count": 12,
   "id": "0cd59ecc",
   "metadata": {},
   "outputs": [],
   "source": [
    "import pandas as pd"
   ]
  },
  {
   "cell_type": "code",
   "execution_count": 13,
   "id": "0685e165",
   "metadata": {},
   "outputs": [],
   "source": [
    "ser = pd.Series(['Nov 3, 2000','2000-01-01'])"
   ]
  },
  {
   "cell_type": "code",
   "execution_count": 14,
   "id": "fe4dd2dd",
   "metadata": {},
   "outputs": [
    {
     "data": {
      "text/plain": [
       "'Nov 3, 2000'"
      ]
     },
     "execution_count": 14,
     "metadata": {},
     "output_type": "execute_result"
    }
   ],
   "source": [
    "ser[0]"
   ]
  },
  {
   "cell_type": "code",
   "execution_count": 17,
   "id": "441f274a",
   "metadata": {},
   "outputs": [],
   "source": [
    "dt1 = pd.to_datetime(ser)"
   ]
  },
  {
   "cell_type": "code",
   "execution_count": 21,
   "id": "b25656c9",
   "metadata": {},
   "outputs": [
    {
     "data": {
      "text/plain": [
       "Timestamp('2000-11-03 00:00:00')"
      ]
     },
     "execution_count": 21,
     "metadata": {},
     "output_type": "execute_result"
    }
   ],
   "source": [
    "dt1[0]"
   ]
  },
  {
   "cell_type": "code",
   "execution_count": 22,
   "id": "0b08fbf2",
   "metadata": {},
   "outputs": [],
   "source": [
    "euro_date = '10-12-2000'\n",
    "\n",
    "#10th of Dec or 12th or Oct"
   ]
  },
  {
   "cell_type": "code",
   "execution_count": 23,
   "id": "0bfb1192",
   "metadata": {},
   "outputs": [
    {
     "data": {
      "text/plain": [
       "Timestamp('2000-10-12 00:00:00')"
      ]
     },
     "execution_count": 23,
     "metadata": {},
     "output_type": "execute_result"
    }
   ],
   "source": [
    "pd.to_datetime(euro_date)  #12th of Oct"
   ]
  },
  {
   "cell_type": "code",
   "execution_count": 25,
   "id": "7360321b",
   "metadata": {},
   "outputs": [
    {
     "data": {
      "text/plain": [
       "Timestamp('2000-12-10 00:00:00')"
      ]
     },
     "execution_count": 25,
     "metadata": {},
     "output_type": "execute_result"
    }
   ],
   "source": [
    "pd.to_datetime(euro_date, dayfirst=True)  #10th of Dec"
   ]
  },
  {
   "cell_type": "code",
   "execution_count": 27,
   "id": "a7428291",
   "metadata": {},
   "outputs": [
    {
     "data": {
      "text/plain": [
       "Timestamp('2023-12-12 00:00:00')"
      ]
     },
     "execution_count": 27,
     "metadata": {},
     "output_type": "execute_result"
    }
   ],
   "source": [
    "style_date = '12--Dec--2023'\n",
    "\n",
    "pd.to_datetime(style_date, format = '%d--%b--%Y')"
   ]
  },
  {
   "cell_type": "code",
   "execution_count": null,
   "id": "81454508",
   "metadata": {},
   "outputs": [],
   "source": []
  }
 ],
 "metadata": {
  "kernelspec": {
   "display_name": "Python 3 (ipykernel)",
   "language": "python",
   "name": "python3"
  },
  "language_info": {
   "codemirror_mode": {
    "name": "ipython",
    "version": 3
   },
   "file_extension": ".py",
   "mimetype": "text/x-python",
   "name": "python",
   "nbconvert_exporter": "python",
   "pygments_lexer": "ipython3",
   "version": "3.11.3"
  }
 },
 "nbformat": 4,
 "nbformat_minor": 5
}
