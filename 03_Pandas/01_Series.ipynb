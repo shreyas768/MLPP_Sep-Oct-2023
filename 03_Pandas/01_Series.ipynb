{
 "cells": [
  {
   "cell_type": "markdown",
   "id": "5465a139",
   "metadata": {},
   "source": [
    "# Introduction to Pandas\n",
    "\n",
    "Pandas is built on top of Numpy. Used in Data cleaning, analysis, preparation etc.\n",
    "\n",
    "# Series\n",
    "\n",
    "similar to Numpy array except Series can have axis labels, can hold any arbitrary Python object"
   ]
  },
  {
   "cell_type": "code",
   "execution_count": 1,
   "id": "81b879eb",
   "metadata": {},
   "outputs": [],
   "source": [
    "import numpy as np\n",
    "import pandas as pd"
   ]
  },
  {
   "cell_type": "code",
   "execution_count": 39,
   "id": "f63d7e05",
   "metadata": {},
   "outputs": [],
   "source": [
    "labels = ['a1','b1','c1']\n",
    "\n",
    "lst = [1,2,3]\n",
    "arr = np.array([1,2,3])\n",
    "dic = {'a' : 1, 'b' : 2, 'c':3}"
   ]
  },
  {
   "cell_type": "code",
   "execution_count": 40,
   "id": "64c6ed2d",
   "metadata": {},
   "outputs": [
    {
     "data": {
      "text/plain": [
       "0    1\n",
       "1    2\n",
       "2    3\n",
       "dtype: int64"
      ]
     },
     "execution_count": 40,
     "metadata": {},
     "output_type": "execute_result"
    }
   ],
   "source": [
    "pd.Series(data=lst)"
   ]
  },
  {
   "cell_type": "code",
   "execution_count": 21,
   "id": "37496fb1",
   "metadata": {},
   "outputs": [
    {
     "data": {
      "text/plain": [
       "a1    1\n",
       "b1    2\n",
       "c1    3\n",
       "dtype: int64"
      ]
     },
     "execution_count": 21,
     "metadata": {},
     "output_type": "execute_result"
    }
   ],
   "source": [
    "pd.Series( index=labels,data=lst)"
   ]
  },
  {
   "cell_type": "code",
   "execution_count": 22,
   "id": "5abe5db1",
   "metadata": {},
   "outputs": [
    {
     "data": {
      "text/plain": [
       "a1    1\n",
       "b1    2\n",
       "c1    3\n",
       "dtype: int64"
      ]
     },
     "execution_count": 22,
     "metadata": {},
     "output_type": "execute_result"
    }
   ],
   "source": [
    "pd.Series(lst,labels)"
   ]
  },
  {
   "cell_type": "code",
   "execution_count": 23,
   "id": "e5932307",
   "metadata": {},
   "outputs": [
    {
     "data": {
      "text/plain": [
       "0    1\n",
       "1    2\n",
       "2    3\n",
       "dtype: int32"
      ]
     },
     "execution_count": 23,
     "metadata": {},
     "output_type": "execute_result"
    }
   ],
   "source": [
    "pd.Series(arr)"
   ]
  },
  {
   "cell_type": "code",
   "execution_count": 24,
   "id": "e14721e1",
   "metadata": {},
   "outputs": [
    {
     "data": {
      "text/plain": [
       "a1    1\n",
       "b1    2\n",
       "c1    3\n",
       "dtype: int32"
      ]
     },
     "execution_count": 24,
     "metadata": {},
     "output_type": "execute_result"
    }
   ],
   "source": [
    "pd.Series(arr,labels)"
   ]
  },
  {
   "cell_type": "code",
   "execution_count": 25,
   "id": "c2026b7a",
   "metadata": {},
   "outputs": [
    {
     "data": {
      "text/plain": [
       "a    1\n",
       "b    2\n",
       "c    3\n",
       "dtype: int64"
      ]
     },
     "execution_count": 25,
     "metadata": {},
     "output_type": "execute_result"
    }
   ],
   "source": [
    "pd.Series(dic)"
   ]
  },
  {
   "cell_type": "code",
   "execution_count": 34,
   "id": "32560077",
   "metadata": {},
   "outputs": [
    {
     "data": {
      "text/plain": [
       "India    10\n",
       "Japan    20\n",
       "USSR     30\n",
       "SL       40\n",
       "dtype: int64"
      ]
     },
     "execution_count": 34,
     "metadata": {},
     "output_type": "execute_result"
    }
   ],
   "source": [
    "ser1 = pd.Series(data = [10,20,30,40],index = ['India','Japan','USSR','SL'])\n",
    "ser1"
   ]
  },
  {
   "cell_type": "code",
   "execution_count": 27,
   "id": "ed191736",
   "metadata": {},
   "outputs": [
    {
     "data": {
      "text/plain": [
       "30"
      ]
     },
     "execution_count": 27,
     "metadata": {},
     "output_type": "execute_result"
    }
   ],
   "source": [
    "ser1['USSR']"
   ]
  },
  {
   "cell_type": "code",
   "execution_count": 28,
   "id": "38d81ff1",
   "metadata": {},
   "outputs": [
    {
     "data": {
      "text/plain": [
       "20"
      ]
     },
     "execution_count": 28,
     "metadata": {},
     "output_type": "execute_result"
    }
   ],
   "source": [
    "ser1['Japan']"
   ]
  },
  {
   "cell_type": "code",
   "execution_count": 35,
   "id": "c0cfcf37",
   "metadata": {},
   "outputs": [
    {
     "data": {
      "text/plain": [
       "USA        10\n",
       "Germany    20\n",
       "India      50\n",
       "Japan      40\n",
       "dtype: int64"
      ]
     },
     "execution_count": 35,
     "metadata": {},
     "output_type": "execute_result"
    }
   ],
   "source": [
    "ser2 = pd.Series(data=[10,20,50,40], index = ['USA','Germany','India','Japan'])\n",
    "ser2"
   ]
  },
  {
   "cell_type": "code",
   "execution_count": 36,
   "id": "679f5a28",
   "metadata": {},
   "outputs": [
    {
     "data": {
      "text/plain": [
       "Germany     NaN\n",
       "India      60.0\n",
       "Japan      60.0\n",
       "SL          NaN\n",
       "USA         NaN\n",
       "USSR        NaN\n",
       "dtype: float64"
      ]
     },
     "execution_count": 36,
     "metadata": {},
     "output_type": "execute_result"
    }
   ],
   "source": [
    "ser1+ser2"
   ]
  },
  {
   "cell_type": "code",
   "execution_count": null,
   "id": "d3262aeb",
   "metadata": {},
   "outputs": [],
   "source": []
  }
 ],
 "metadata": {
  "kernelspec": {
   "display_name": "Python 3 (ipykernel)",
   "language": "python",
   "name": "python3"
  },
  "language_info": {
   "codemirror_mode": {
    "name": "ipython",
    "version": 3
   },
   "file_extension": ".py",
   "mimetype": "text/x-python",
   "name": "python",
   "nbconvert_exporter": "python",
   "pygments_lexer": "ipython3",
   "version": "3.11.3"
  }
 },
 "nbformat": 4,
 "nbformat_minor": 5
}
