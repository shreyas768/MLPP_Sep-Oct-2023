{
 "cells": [
  {
   "cell_type": "markdown",
   "id": "ddd48857",
   "metadata": {},
   "source": [
    "# Part 1: Manual Feature Extraction"
   ]
  },
  {
   "cell_type": "code",
   "execution_count": 6,
   "id": "a7d59b6e",
   "metadata": {},
   "outputs": [
    {
     "name": "stdout",
     "output_type": "stream",
     "text": [
      "This is a story about dogs\n",
      "our canine pets\n",
      "Dogs are furry animals\n",
      "\n"
     ]
    }
   ],
   "source": [
    "#Bag of words\n",
    "\n",
    "with open(r\"C:\\Users\\shrey\\Desktop\\MLPP_iHUB_IITR_Sept_2023\\DATA\\One.txt\") as  txt1:\n",
    "    #a = txt1.read()  (read entire text as a string)\n",
    "    #a = txt1.readlines() (read each line as a list)\n",
    "    print(txt1.read())"
   ]
  },
  {
   "cell_type": "code",
   "execution_count": 7,
   "id": "f97e2084",
   "metadata": {
    "scrolled": true
   },
   "outputs": [],
   "source": [
    "#a"
   ]
  },
  {
   "cell_type": "code",
   "execution_count": 8,
   "id": "eb5a6b45",
   "metadata": {},
   "outputs": [
    {
     "name": "stdout",
     "output_type": "stream",
     "text": [
      "This story is about surfing\n",
      "Catching waves is fun\n",
      "Surfing is a popular water sport\n",
      "\n"
     ]
    }
   ],
   "source": [
    "with open(r\"C:\\Users\\shrey\\Desktop\\MLPP_iHUB_IITR_Sept_2023\\DATA\\Two.txt\") as  txt2:\n",
    "    #b = txt2.read()\n",
    "    #b = txt2.readlines()\n",
    "    print(txt2.read())"
   ]
  },
  {
   "cell_type": "code",
   "execution_count": 9,
   "id": "af8817c2",
   "metadata": {},
   "outputs": [],
   "source": [
    "#b"
   ]
  },
  {
   "cell_type": "markdown",
   "id": "cc9cad13",
   "metadata": {},
   "source": [
    "# Create a 'Bag of Words' (create a vocabulary)"
   ]
  },
  {
   "cell_type": "code",
   "execution_count": 14,
   "id": "4d9b535d",
   "metadata": {},
   "outputs": [],
   "source": [
    "#Read words separately \n",
    "\n",
    "with open(r\"C:\\Users\\shrey\\Desktop\\MLPP_iHUB_IITR_Sept_2023\\DATA\\One.txt\") as  txt1:\n",
    "    words1 = txt1.read().lower().split() "
   ]
  },
  {
   "cell_type": "code",
   "execution_count": 15,
   "id": "4b11f72b",
   "metadata": {},
   "outputs": [
    {
     "data": {
      "text/plain": [
       "['this',\n",
       " 'is',\n",
       " 'a',\n",
       " 'story',\n",
       " 'about',\n",
       " 'dogs',\n",
       " 'our',\n",
       " 'canine',\n",
       " 'pets',\n",
       " 'dogs',\n",
       " 'are',\n",
       " 'furry',\n",
       " 'animals']"
      ]
     },
     "execution_count": 15,
     "metadata": {},
     "output_type": "execute_result"
    }
   ],
   "source": [
    "words1"
   ]
  },
  {
   "cell_type": "code",
   "execution_count": 17,
   "id": "e7089613",
   "metadata": {},
   "outputs": [
    {
     "data": {
      "text/plain": [
       "13"
      ]
     },
     "execution_count": 17,
     "metadata": {},
     "output_type": "execute_result"
    }
   ],
   "source": [
    "len(words1)"
   ]
  },
  {
   "cell_type": "code",
   "execution_count": 16,
   "id": "1da6f809",
   "metadata": {},
   "outputs": [
    {
     "data": {
      "text/plain": [
       "{'a',\n",
       " 'about',\n",
       " 'animals',\n",
       " 'are',\n",
       " 'canine',\n",
       " 'dogs',\n",
       " 'furry',\n",
       " 'is',\n",
       " 'our',\n",
       " 'pets',\n",
       " 'story',\n",
       " 'this'}"
      ]
     },
     "execution_count": 16,
     "metadata": {},
     "output_type": "execute_result"
    }
   ],
   "source": [
    "unique_words1 = set(words1)\n",
    "unique_words1"
   ]
  },
  {
   "cell_type": "code",
   "execution_count": 20,
   "id": "cfc8ec05",
   "metadata": {},
   "outputs": [],
   "source": [
    "with open(r\"C:\\Users\\shrey\\Desktop\\MLPP_iHUB_IITR_Sept_2023\\DATA\\Two.txt\") as  txt2:\n",
    "    words2 = txt2.read().lower().split()\n",
    "    unique_words2 = set(words2)\n",
    "    "
   ]
  },
  {
   "cell_type": "code",
   "execution_count": 21,
   "id": "978a07b9",
   "metadata": {},
   "outputs": [
    {
     "data": {
      "text/plain": [
       "{'a',\n",
       " 'about',\n",
       " 'catching',\n",
       " 'fun',\n",
       " 'is',\n",
       " 'popular',\n",
       " 'sport',\n",
       " 'story',\n",
       " 'surfing',\n",
       " 'this',\n",
       " 'water',\n",
       " 'waves'}"
      ]
     },
     "execution_count": 21,
     "metadata": {},
     "output_type": "execute_result"
    }
   ],
   "source": [
    "unique_words2"
   ]
  },
  {
   "cell_type": "code",
   "execution_count": 22,
   "id": "89f6886b",
   "metadata": {},
   "outputs": [],
   "source": [
    "#Unique Words across both the documents\n",
    "all_unique = set()\n",
    "all_unique.update(unique_words1)"
   ]
  },
  {
   "cell_type": "code",
   "execution_count": 23,
   "id": "ff9079b1",
   "metadata": {},
   "outputs": [
    {
     "data": {
      "text/plain": [
       "{'a',\n",
       " 'about',\n",
       " 'animals',\n",
       " 'are',\n",
       " 'canine',\n",
       " 'dogs',\n",
       " 'furry',\n",
       " 'is',\n",
       " 'our',\n",
       " 'pets',\n",
       " 'story',\n",
       " 'this'}"
      ]
     },
     "execution_count": 23,
     "metadata": {},
     "output_type": "execute_result"
    }
   ],
   "source": [
    "all_unique"
   ]
  },
  {
   "cell_type": "code",
   "execution_count": 24,
   "id": "f551786d",
   "metadata": {},
   "outputs": [
    {
     "data": {
      "text/plain": [
       "{'a',\n",
       " 'about',\n",
       " 'animals',\n",
       " 'are',\n",
       " 'canine',\n",
       " 'catching',\n",
       " 'dogs',\n",
       " 'fun',\n",
       " 'furry',\n",
       " 'is',\n",
       " 'our',\n",
       " 'pets',\n",
       " 'popular',\n",
       " 'sport',\n",
       " 'story',\n",
       " 'surfing',\n",
       " 'this',\n",
       " 'water',\n",
       " 'waves'}"
      ]
     },
     "execution_count": 24,
     "metadata": {},
     "output_type": "execute_result"
    }
   ],
   "source": [
    "all_unique.update(unique_words2)\n",
    "all_unique"
   ]
  },
  {
   "cell_type": "code",
   "execution_count": 25,
   "id": "e1ebf69f",
   "metadata": {},
   "outputs": [],
   "source": [
    "vocab = dict()\n",
    "i = 0\n",
    "\n",
    "for x in all_unique:\n",
    "    vocab[x] = i\n",
    "    i = i+1"
   ]
  },
  {
   "cell_type": "code",
   "execution_count": 27,
   "id": "a1805b3d",
   "metadata": {},
   "outputs": [
    {
     "data": {
      "text/plain": [
       "{'our': 0,\n",
       " 'furry': 1,\n",
       " 'surfing': 2,\n",
       " 'water': 3,\n",
       " 'story': 4,\n",
       " 'is': 5,\n",
       " 'this': 6,\n",
       " 'fun': 7,\n",
       " 'popular': 8,\n",
       " 'are': 9,\n",
       " 'catching': 10,\n",
       " 'waves': 11,\n",
       " 'canine': 12,\n",
       " 'pets': 13,\n",
       " 'sport': 14,\n",
       " 'animals': 15,\n",
       " 'dogs': 16,\n",
       " 'a': 17,\n",
       " 'about': 18}"
      ]
     },
     "execution_count": 27,
     "metadata": {},
     "output_type": "execute_result"
    }
   ],
   "source": [
    "vocab"
   ]
  },
  {
   "cell_type": "markdown",
   "id": "48f1e633",
   "metadata": {},
   "source": [
    "## Frequency Count on Bag of Words "
   ]
  },
  {
   "cell_type": "code",
   "execution_count": 30,
   "id": "01ac25f4",
   "metadata": {},
   "outputs": [],
   "source": [
    "freq1 = [0]*len(vocab)\n",
    "freq2 = [0]*len(vocab)\n",
    "all_freq = ['']*len(vocab)"
   ]
  },
  {
   "cell_type": "code",
   "execution_count": 31,
   "id": "5bdb8988",
   "metadata": {},
   "outputs": [
    {
     "data": {
      "text/plain": [
       "['', '', '', '', '', '', '', '', '', '', '', '', '', '', '', '', '', '', '']"
      ]
     },
     "execution_count": 31,
     "metadata": {},
     "output_type": "execute_result"
    }
   ],
   "source": [
    "all_freq"
   ]
  },
  {
   "cell_type": "code",
   "execution_count": 32,
   "id": "f8f4b75b",
   "metadata": {},
   "outputs": [],
   "source": [
    "for x in vocab:\n",
    "    word_i = vocab[x]\n",
    "    all_freq[word_i] = x"
   ]
  },
  {
   "cell_type": "code",
   "execution_count": 33,
   "id": "23a58b49",
   "metadata": {},
   "outputs": [
    {
     "data": {
      "text/plain": [
       "['our',\n",
       " 'furry',\n",
       " 'surfing',\n",
       " 'water',\n",
       " 'story',\n",
       " 'is',\n",
       " 'this',\n",
       " 'fun',\n",
       " 'popular',\n",
       " 'are',\n",
       " 'catching',\n",
       " 'waves',\n",
       " 'canine',\n",
       " 'pets',\n",
       " 'sport',\n",
       " 'animals',\n",
       " 'dogs',\n",
       " 'a',\n",
       " 'about']"
      ]
     },
     "execution_count": 33,
     "metadata": {},
     "output_type": "execute_result"
    }
   ],
   "source": [
    "all_freq"
   ]
  },
  {
   "cell_type": "markdown",
   "id": "37cb3a25",
   "metadata": {},
   "source": [
    "## Add in counts per words for each txt file"
   ]
  },
  {
   "cell_type": "code",
   "execution_count": 34,
   "id": "e14875a9",
   "metadata": {},
   "outputs": [],
   "source": [
    "with open(r\"C:\\Users\\shrey\\Desktop\\MLPP_iHUB_IITR_Sept_2023\\DATA\\One.txt\") as f:\n",
    "    one_txt = f.read().lower().split()\n",
    "    \n",
    "for x in one_txt:\n",
    "    word_i = vocab[x]\n",
    "    freq1[word_i] += 1"
   ]
  },
  {
   "cell_type": "code",
   "execution_count": 35,
   "id": "1dda24c3",
   "metadata": {},
   "outputs": [
    {
     "data": {
      "text/plain": [
       "[1, 1, 0, 0, 1, 1, 1, 0, 0, 1, 0, 0, 1, 1, 0, 1, 2, 1, 1]"
      ]
     },
     "execution_count": 35,
     "metadata": {},
     "output_type": "execute_result"
    }
   ],
   "source": [
    "freq1"
   ]
  },
  {
   "cell_type": "code",
   "execution_count": 40,
   "id": "61c480bb",
   "metadata": {},
   "outputs": [],
   "source": [
    "with open(r\"C:\\Users\\shrey\\Desktop\\MLPP_iHUB_IITR_Sept_2023\\DATA\\Two.txt\") as f:\n",
    "    two_txt = f.read().lower().split()\n",
    "    \n",
    "for x in two_txt:\n",
    "    word_j = vocab[x]\n",
    "    freq2[word_j] += 1"
   ]
  },
  {
   "cell_type": "code",
   "execution_count": 41,
   "id": "3e097e29",
   "metadata": {},
   "outputs": [
    {
     "data": {
      "text/plain": [
       "[0, 0, 2, 1, 1, 3, 1, 1, 1, 0, 1, 1, 0, 0, 1, 0, 0, 1, 1]"
      ]
     },
     "execution_count": 41,
     "metadata": {},
     "output_type": "execute_result"
    }
   ],
   "source": [
    "freq2"
   ]
  },
  {
   "cell_type": "code",
   "execution_count": 43,
   "id": "75447292",
   "metadata": {},
   "outputs": [
    {
     "data": {
      "text/html": [
       "<div>\n",
       "<style scoped>\n",
       "    .dataframe tbody tr th:only-of-type {\n",
       "        vertical-align: middle;\n",
       "    }\n",
       "\n",
       "    .dataframe tbody tr th {\n",
       "        vertical-align: top;\n",
       "    }\n",
       "\n",
       "    .dataframe thead th {\n",
       "        text-align: right;\n",
       "    }\n",
       "</style>\n",
       "<table border=\"1\" class=\"dataframe\">\n",
       "  <thead>\n",
       "    <tr style=\"text-align: right;\">\n",
       "      <th></th>\n",
       "      <th>our</th>\n",
       "      <th>furry</th>\n",
       "      <th>surfing</th>\n",
       "      <th>water</th>\n",
       "      <th>story</th>\n",
       "      <th>is</th>\n",
       "      <th>this</th>\n",
       "      <th>fun</th>\n",
       "      <th>popular</th>\n",
       "      <th>are</th>\n",
       "      <th>catching</th>\n",
       "      <th>waves</th>\n",
       "      <th>canine</th>\n",
       "      <th>pets</th>\n",
       "      <th>sport</th>\n",
       "      <th>animals</th>\n",
       "      <th>dogs</th>\n",
       "      <th>a</th>\n",
       "      <th>about</th>\n",
       "    </tr>\n",
       "  </thead>\n",
       "  <tbody>\n",
       "    <tr>\n",
       "      <th>0</th>\n",
       "      <td>1</td>\n",
       "      <td>1</td>\n",
       "      <td>0</td>\n",
       "      <td>0</td>\n",
       "      <td>1</td>\n",
       "      <td>1</td>\n",
       "      <td>1</td>\n",
       "      <td>0</td>\n",
       "      <td>0</td>\n",
       "      <td>1</td>\n",
       "      <td>0</td>\n",
       "      <td>0</td>\n",
       "      <td>1</td>\n",
       "      <td>1</td>\n",
       "      <td>0</td>\n",
       "      <td>1</td>\n",
       "      <td>2</td>\n",
       "      <td>1</td>\n",
       "      <td>1</td>\n",
       "    </tr>\n",
       "    <tr>\n",
       "      <th>1</th>\n",
       "      <td>0</td>\n",
       "      <td>0</td>\n",
       "      <td>2</td>\n",
       "      <td>1</td>\n",
       "      <td>1</td>\n",
       "      <td>3</td>\n",
       "      <td>1</td>\n",
       "      <td>1</td>\n",
       "      <td>1</td>\n",
       "      <td>0</td>\n",
       "      <td>1</td>\n",
       "      <td>1</td>\n",
       "      <td>0</td>\n",
       "      <td>0</td>\n",
       "      <td>1</td>\n",
       "      <td>0</td>\n",
       "      <td>0</td>\n",
       "      <td>1</td>\n",
       "      <td>1</td>\n",
       "    </tr>\n",
       "  </tbody>\n",
       "</table>\n",
       "</div>"
      ],
      "text/plain": [
       "   our  furry  surfing  water  story  is  this  fun  popular  are  catching  \\\n",
       "0    1      1        0      0      1   1     1    0        0    1         0   \n",
       "1    0      0        2      1      1   3     1    1        1    0         1   \n",
       "\n",
       "   waves  canine  pets  sport  animals  dogs  a  about  \n",
       "0      0       1     1      0        1     2  1      1  \n",
       "1      1       0     0      1        0     0  1      1  "
      ]
     },
     "execution_count": 43,
     "metadata": {},
     "output_type": "execute_result"
    }
   ],
   "source": [
    "import pandas as pd\n",
    "pd.DataFrame(data=[freq1,freq2], columns=all_freq)"
   ]
  },
  {
   "cell_type": "markdown",
   "id": "a35aa2bd",
   "metadata": {},
   "source": [
    "# Part2:  Feature Extraction using sklearn"
   ]
  },
  {
   "cell_type": "code",
   "execution_count": 44,
   "id": "6bbf1856",
   "metadata": {},
   "outputs": [],
   "source": [
    "txt = ['This is line',\n",
    "      'This is another line',\n",
    "      'Completely different line']"
   ]
  },
  {
   "cell_type": "markdown",
   "id": "5bd4e32b",
   "metadata": {},
   "source": [
    "## CountVectorizer"
   ]
  },
  {
   "cell_type": "code",
   "execution_count": 45,
   "id": "7b0fdd84",
   "metadata": {},
   "outputs": [],
   "source": [
    "from sklearn.feature_extraction.text import TfidfTransformer, TfidfVectorizer, CountVectorizer"
   ]
  },
  {
   "cell_type": "code",
   "execution_count": 53,
   "id": "469c5fb0",
   "metadata": {},
   "outputs": [],
   "source": [
    "cv = CountVectorizer()"
   ]
  },
  {
   "cell_type": "code",
   "execution_count": 54,
   "id": "5e61c442",
   "metadata": {},
   "outputs": [],
   "source": [
    "sp_mat = cv.fit_transform(txt)"
   ]
  },
  {
   "cell_type": "code",
   "execution_count": 55,
   "id": "b4b60986",
   "metadata": {},
   "outputs": [
    {
     "data": {
      "text/plain": [
       "matrix([[0, 0, 0, 1, 1, 1],\n",
       "        [1, 0, 0, 1, 1, 1],\n",
       "        [0, 1, 1, 0, 1, 0]], dtype=int64)"
      ]
     },
     "execution_count": 55,
     "metadata": {},
     "output_type": "execute_result"
    }
   ],
   "source": [
    "sp_mat.todense()"
   ]
  },
  {
   "cell_type": "code",
   "execution_count": 56,
   "id": "14ae2331",
   "metadata": {},
   "outputs": [
    {
     "data": {
      "text/plain": [
       "{'this': 5, 'is': 3, 'line': 4, 'another': 0, 'completely': 1, 'different': 2}"
      ]
     },
     "execution_count": 56,
     "metadata": {},
     "output_type": "execute_result"
    }
   ],
   "source": [
    "cv.vocabulary_"
   ]
  },
  {
   "cell_type": "code",
   "execution_count": 57,
   "id": "5d19e6a3",
   "metadata": {},
   "outputs": [],
   "source": [
    "cv1 = CountVectorizer(stop_words='english')"
   ]
  },
  {
   "cell_type": "code",
   "execution_count": 58,
   "id": "793d1160",
   "metadata": {},
   "outputs": [
    {
     "data": {
      "text/plain": [
       "matrix([[0, 0, 1],\n",
       "        [0, 0, 1],\n",
       "        [1, 1, 1]], dtype=int64)"
      ]
     },
     "execution_count": 58,
     "metadata": {},
     "output_type": "execute_result"
    }
   ],
   "source": [
    "cv1.fit_transform(txt).todense()"
   ]
  },
  {
   "cell_type": "code",
   "execution_count": 59,
   "id": "ea38d72b",
   "metadata": {},
   "outputs": [
    {
     "data": {
      "text/plain": [
       "{'line': 2, 'completely': 0, 'different': 1}"
      ]
     },
     "execution_count": 59,
     "metadata": {},
     "output_type": "execute_result"
    }
   ],
   "source": [
    "cv1.vocabulary_"
   ]
  },
  {
   "cell_type": "markdown",
   "id": "48378d94",
   "metadata": {},
   "source": [
    "# Tfidf"
   ]
  },
  {
   "cell_type": "code",
   "execution_count": 60,
   "id": "8a549ece",
   "metadata": {},
   "outputs": [],
   "source": [
    "tfidf_t = TfidfTransformer()"
   ]
  },
  {
   "cell_type": "code",
   "execution_count": 61,
   "id": "499629b8",
   "metadata": {},
   "outputs": [],
   "source": [
    "cv2 = CountVectorizer()"
   ]
  },
  {
   "cell_type": "code",
   "execution_count": 62,
   "id": "12b8db31",
   "metadata": {},
   "outputs": [],
   "source": [
    "counts = cv2.fit_transform(txt)"
   ]
  },
  {
   "cell_type": "code",
   "execution_count": 63,
   "id": "8ffca16f",
   "metadata": {},
   "outputs": [
    {
     "data": {
      "text/plain": [
       "<3x6 sparse matrix of type '<class 'numpy.int64'>'\n",
       "\twith 10 stored elements in Compressed Sparse Row format>"
      ]
     },
     "execution_count": 63,
     "metadata": {},
     "output_type": "execute_result"
    }
   ],
   "source": [
    "counts"
   ]
  },
  {
   "cell_type": "code",
   "execution_count": 64,
   "id": "c9b3246d",
   "metadata": {},
   "outputs": [
    {
     "data": {
      "text/plain": [
       "matrix([[0.        , 0.        , 0.        , 0.61980538, 0.48133417,\n",
       "         0.61980538],\n",
       "        [0.63174505, 0.        , 0.        , 0.4804584 , 0.37311881,\n",
       "         0.4804584 ],\n",
       "        [0.        , 0.65249088, 0.65249088, 0.        , 0.38537163,\n",
       "         0.        ]])"
      ]
     },
     "execution_count": 64,
     "metadata": {},
     "output_type": "execute_result"
    }
   ],
   "source": [
    "tfidf_t.fit_transform(counts).todense()"
   ]
  },
  {
   "cell_type": "markdown",
   "id": "6ccd4e6c",
   "metadata": {},
   "source": [
    "# Using PipeLine"
   ]
  },
  {
   "cell_type": "code",
   "execution_count": 66,
   "id": "a3d566c8",
   "metadata": {},
   "outputs": [],
   "source": [
    "from sklearn.pipeline import Pipeline\n",
    "\n",
    "p = Pipeline([('cv2',CountVectorizer()),('tfidf',TfidfTransformer())])"
   ]
  },
  {
   "cell_type": "code",
   "execution_count": 67,
   "id": "13c41a36",
   "metadata": {},
   "outputs": [],
   "source": [
    "results = p.fit_transform(txt)"
   ]
  },
  {
   "cell_type": "code",
   "execution_count": 68,
   "id": "fd36307c",
   "metadata": {},
   "outputs": [
    {
     "data": {
      "text/plain": [
       "matrix([[0.        , 0.        , 0.        , 0.61980538, 0.48133417,\n",
       "         0.61980538],\n",
       "        [0.63174505, 0.        , 0.        , 0.4804584 , 0.37311881,\n",
       "         0.4804584 ],\n",
       "        [0.        , 0.65249088, 0.65249088, 0.        , 0.38537163,\n",
       "         0.        ]])"
      ]
     },
     "execution_count": 68,
     "metadata": {},
     "output_type": "execute_result"
    }
   ],
   "source": [
    "results.todense()"
   ]
  },
  {
   "cell_type": "markdown",
   "id": "b77eadd0",
   "metadata": {},
   "source": [
    " # tfidf Vectorizer (does above two in single step)"
   ]
  },
  {
   "cell_type": "code",
   "execution_count": 70,
   "id": "61bb3fde",
   "metadata": {},
   "outputs": [
    {
     "data": {
      "text/plain": [
       "matrix([[0.        , 0.        , 0.        , 0.61980538, 0.48133417,\n",
       "         0.61980538],\n",
       "        [0.63174505, 0.        , 0.        , 0.4804584 , 0.37311881,\n",
       "         0.4804584 ],\n",
       "        [0.        , 0.65249088, 0.65249088, 0.        , 0.38537163,\n",
       "         0.        ]])"
      ]
     },
     "execution_count": 70,
     "metadata": {},
     "output_type": "execute_result"
    }
   ],
   "source": [
    "tfidf1 = TfidfVectorizer()\n",
    "\n",
    "tfidf1.fit_transform(txt).todense()"
   ]
  },
  {
   "cell_type": "code",
   "execution_count": null,
   "id": "d22c8d0e",
   "metadata": {},
   "outputs": [],
   "source": []
  }
 ],
 "metadata": {
  "kernelspec": {
   "display_name": "Python 3 (ipykernel)",
   "language": "python",
   "name": "python3"
  },
  "language_info": {
   "codemirror_mode": {
    "name": "ipython",
    "version": 3
   },
   "file_extension": ".py",
   "mimetype": "text/x-python",
   "name": "python",
   "nbconvert_exporter": "python",
   "pygments_lexer": "ipython3",
   "version": "3.11.3"
  }
 },
 "nbformat": 4,
 "nbformat_minor": 5
}
