{
 "cells": [
  {
   "cell_type": "markdown",
   "id": "511ee09e",
   "metadata": {},
   "source": [
    "# Part 1: Manual Feature Extraction"
   ]
  },
  {
   "cell_type": "code",
   "execution_count": 6,
   "id": "5ccf416e",
   "metadata": {},
   "outputs": [
    {
     "name": "stdout",
     "output_type": "stream",
     "text": [
      "This is a story about dogs\n",
      "our canine pets\n",
      "Dogs are furry animals\n",
      "\n"
     ]
    }
   ],
   "source": [
    "#Bag of words\n",
    "\n",
    "with open(r\"C:\\Users\\shrey\\Desktop\\MLPP_iHUB_IITR_Sept_2023\\DATA\\One.txt\") as  txt1:\n",
    "    #a = txt1.read()  (read entire text as a string)\n",
    "    #a = txt1.readlines() (read each line as a list)\n",
    "    print(txt1.read())"
   ]
  },
  {
   "cell_type": "code",
   "execution_count": 7,
   "id": "f284ab64",
   "metadata": {
    "scrolled": true
   },
   "outputs": [],
   "source": [
    "#a"
   ]
  },
  {
   "cell_type": "code",
   "execution_count": 8,
   "id": "8f99f007",
   "metadata": {},
   "outputs": [
    {
     "name": "stdout",
     "output_type": "stream",
     "text": [
      "This story is about surfing\n",
      "Catching waves is fun\n",
      "Surfing is a popular water sport\n",
      "\n"
     ]
    }
   ],
   "source": [
    "with open(r\"C:\\Users\\shrey\\Desktop\\MLPP_iHUB_IITR_Sept_2023\\DATA\\Two.txt\") as  txt2:\n",
    "    #b = txt2.read()\n",
    "    #b = txt2.readlines()\n",
    "    print(txt2.read())"
   ]
  },
  {
   "cell_type": "code",
   "execution_count": 9,
   "id": "bb59a3a4",
   "metadata": {},
   "outputs": [],
   "source": [
    "#b"
   ]
  },
  {
   "cell_type": "markdown",
   "id": "d7abed68",
   "metadata": {},
   "source": [
    "# Create a 'Bag of Words' (create a vocabulary)"
   ]
  },
  {
   "cell_type": "code",
   "execution_count": 14,
   "id": "8977de53",
   "metadata": {},
   "outputs": [],
   "source": [
    "#Read words separately \n",
    "\n",
    "with open(r\"C:\\Users\\shrey\\Desktop\\MLPP_iHUB_IITR_Sept_2023\\DATA\\One.txt\") as  txt1:\n",
    "    words1 = txt1.read().lower().split() "
   ]
  },
  {
   "cell_type": "code",
   "execution_count": 15,
   "id": "5cd2b808",
   "metadata": {},
   "outputs": [
    {
     "data": {
      "text/plain": [
       "['this',\n",
       " 'is',\n",
       " 'a',\n",
       " 'story',\n",
       " 'about',\n",
       " 'dogs',\n",
       " 'our',\n",
       " 'canine',\n",
       " 'pets',\n",
       " 'dogs',\n",
       " 'are',\n",
       " 'furry',\n",
       " 'animals']"
      ]
     },
     "execution_count": 15,
     "metadata": {},
     "output_type": "execute_result"
    }
   ],
   "source": [
    "words1"
   ]
  },
  {
   "cell_type": "code",
   "execution_count": 17,
   "id": "08f52df6",
   "metadata": {},
   "outputs": [
    {
     "data": {
      "text/plain": [
       "13"
      ]
     },
     "execution_count": 17,
     "metadata": {},
     "output_type": "execute_result"
    }
   ],
   "source": [
    "len(words1)"
   ]
  },
  {
   "cell_type": "code",
   "execution_count": 16,
   "id": "58c06c03",
   "metadata": {},
   "outputs": [
    {
     "data": {
      "text/plain": [
       "{'a',\n",
       " 'about',\n",
       " 'animals',\n",
       " 'are',\n",
       " 'canine',\n",
       " 'dogs',\n",
       " 'furry',\n",
       " 'is',\n",
       " 'our',\n",
       " 'pets',\n",
       " 'story',\n",
       " 'this'}"
      ]
     },
     "execution_count": 16,
     "metadata": {},
     "output_type": "execute_result"
    }
   ],
   "source": [
    "unique_words1 = set(words1)\n",
    "unique_words1"
   ]
  },
  {
   "cell_type": "code",
   "execution_count": 20,
   "id": "ced0915e",
   "metadata": {},
   "outputs": [],
   "source": [
    "with open(r\"C:\\Users\\shrey\\Desktop\\MLPP_iHUB_IITR_Sept_2023\\DATA\\Two.txt\") as  txt2:\n",
    "    words2 = txt2.read().lower().split()\n",
    "    unique_words2 = set(words2)\n",
    "    "
   ]
  },
  {
   "cell_type": "code",
   "execution_count": 21,
   "id": "88fac79b",
   "metadata": {},
   "outputs": [
    {
     "data": {
      "text/plain": [
       "{'a',\n",
       " 'about',\n",
       " 'catching',\n",
       " 'fun',\n",
       " 'is',\n",
       " 'popular',\n",
       " 'sport',\n",
       " 'story',\n",
       " 'surfing',\n",
       " 'this',\n",
       " 'water',\n",
       " 'waves'}"
      ]
     },
     "execution_count": 21,
     "metadata": {},
     "output_type": "execute_result"
    }
   ],
   "source": [
    "unique_words2"
   ]
  },
  {
   "cell_type": "code",
   "execution_count": 22,
   "id": "b4e066d0",
   "metadata": {},
   "outputs": [],
   "source": [
    "#Unique Words across both the documents\n",
    "all_unique = set()\n",
    "all_unique.update(unique_words1)"
   ]
  },
  {
   "cell_type": "code",
   "execution_count": 23,
   "id": "49f862d4",
   "metadata": {},
   "outputs": [
    {
     "data": {
      "text/plain": [
       "{'a',\n",
       " 'about',\n",
       " 'animals',\n",
       " 'are',\n",
       " 'canine',\n",
       " 'dogs',\n",
       " 'furry',\n",
       " 'is',\n",
       " 'our',\n",
       " 'pets',\n",
       " 'story',\n",
       " 'this'}"
      ]
     },
     "execution_count": 23,
     "metadata": {},
     "output_type": "execute_result"
    }
   ],
   "source": [
    "all_unique"
   ]
  },
  {
   "cell_type": "code",
   "execution_count": 24,
   "id": "85e4c96b",
   "metadata": {},
   "outputs": [
    {
     "data": {
      "text/plain": [
       "{'a',\n",
       " 'about',\n",
       " 'animals',\n",
       " 'are',\n",
       " 'canine',\n",
       " 'catching',\n",
       " 'dogs',\n",
       " 'fun',\n",
       " 'furry',\n",
       " 'is',\n",
       " 'our',\n",
       " 'pets',\n",
       " 'popular',\n",
       " 'sport',\n",
       " 'story',\n",
       " 'surfing',\n",
       " 'this',\n",
       " 'water',\n",
       " 'waves'}"
      ]
     },
     "execution_count": 24,
     "metadata": {},
     "output_type": "execute_result"
    }
   ],
   "source": [
    "all_unique.update(unique_words2)\n",
    "all_unique"
   ]
  },
  {
   "cell_type": "code",
   "execution_count": 25,
   "id": "82c1a684",
   "metadata": {},
   "outputs": [],
   "source": [
    "vocab = dict()\n",
    "i = 0\n",
    "\n",
    "for x in all_unique:\n",
    "    vocab[x] = i\n",
    "    i = i+1"
   ]
  },
  {
   "cell_type": "code",
   "execution_count": 27,
   "id": "48d63d04",
   "metadata": {},
   "outputs": [
    {
     "data": {
      "text/plain": [
       "{'our': 0,\n",
       " 'furry': 1,\n",
       " 'surfing': 2,\n",
       " 'water': 3,\n",
       " 'story': 4,\n",
       " 'is': 5,\n",
       " 'this': 6,\n",
       " 'fun': 7,\n",
       " 'popular': 8,\n",
       " 'are': 9,\n",
       " 'catching': 10,\n",
       " 'waves': 11,\n",
       " 'canine': 12,\n",
       " 'pets': 13,\n",
       " 'sport': 14,\n",
       " 'animals': 15,\n",
       " 'dogs': 16,\n",
       " 'a': 17,\n",
       " 'about': 18}"
      ]
     },
     "execution_count": 27,
     "metadata": {},
     "output_type": "execute_result"
    }
   ],
   "source": [
    "vocab"
   ]
  },
  {
   "cell_type": "markdown",
   "id": "d7fbbb1a",
   "metadata": {},
   "source": [
    "## Frequency Count on Bag of Words "
   ]
  },
  {
   "cell_type": "code",
   "execution_count": 30,
   "id": "447011c4",
   "metadata": {},
   "outputs": [],
   "source": [
    "freq1 = [0]*len(vocab)\n",
    "freq2 = [0]*len(vocab)\n",
    "all_freq = ['']*len(vocab)"
   ]
  },
  {
   "cell_type": "code",
   "execution_count": 31,
   "id": "f62d64e3",
   "metadata": {},
   "outputs": [
    {
     "data": {
      "text/plain": [
       "['', '', '', '', '', '', '', '', '', '', '', '', '', '', '', '', '', '', '']"
      ]
     },
     "execution_count": 31,
     "metadata": {},
     "output_type": "execute_result"
    }
   ],
   "source": [
    "all_freq"
   ]
  },
  {
   "cell_type": "code",
   "execution_count": 32,
   "id": "0e4385cf",
   "metadata": {},
   "outputs": [],
   "source": [
    "for x in vocab:\n",
    "    word_i = vocab[x]\n",
    "    all_freq[word_i] = x"
   ]
  },
  {
   "cell_type": "code",
   "execution_count": 33,
   "id": "25e36e6e",
   "metadata": {},
   "outputs": [
    {
     "data": {
      "text/plain": [
       "['our',\n",
       " 'furry',\n",
       " 'surfing',\n",
       " 'water',\n",
       " 'story',\n",
       " 'is',\n",
       " 'this',\n",
       " 'fun',\n",
       " 'popular',\n",
       " 'are',\n",
       " 'catching',\n",
       " 'waves',\n",
       " 'canine',\n",
       " 'pets',\n",
       " 'sport',\n",
       " 'animals',\n",
       " 'dogs',\n",
       " 'a',\n",
       " 'about']"
      ]
     },
     "execution_count": 33,
     "metadata": {},
     "output_type": "execute_result"
    }
   ],
   "source": [
    "all_freq"
   ]
  },
  {
   "cell_type": "markdown",
   "id": "c874cd9c",
   "metadata": {},
   "source": [
    "## Add in counts per words for each txt file"
   ]
  },
  {
   "cell_type": "code",
   "execution_count": 34,
   "id": "5d71d12d",
   "metadata": {},
   "outputs": [],
   "source": [
    "with open(r\"C:\\Users\\shrey\\Desktop\\MLPP_iHUB_IITR_Sept_2023\\DATA\\One.txt\") as f:\n",
    "    one_txt = f.read().lower().split()\n",
    "    \n",
    "for x in one_txt:\n",
    "    word_i = vocab[x]\n",
    "    freq1[word_i] += 1"
   ]
  },
  {
   "cell_type": "code",
   "execution_count": 35,
   "id": "b33771eb",
   "metadata": {},
   "outputs": [
    {
     "data": {
      "text/plain": [
       "[1, 1, 0, 0, 1, 1, 1, 0, 0, 1, 0, 0, 1, 1, 0, 1, 2, 1, 1]"
      ]
     },
     "execution_count": 35,
     "metadata": {},
     "output_type": "execute_result"
    }
   ],
   "source": [
    "freq1"
   ]
  },
  {
   "cell_type": "code",
   "execution_count": 40,
   "id": "74fd65a3",
   "metadata": {},
   "outputs": [],
   "source": [
    "with open(r\"C:\\Users\\shrey\\Desktop\\MLPP_iHUB_IITR_Sept_2023\\DATA\\Two.txt\") as f:\n",
    "    two_txt = f.read().lower().split()\n",
    "    \n",
    "for x in two_txt:\n",
    "    word_j = vocab[x]\n",
    "    freq2[word_j] += 1"
   ]
  },
  {
   "cell_type": "code",
   "execution_count": 41,
   "id": "b1553ce5",
   "metadata": {},
   "outputs": [
    {
     "data": {
      "text/plain": [
       "[0, 0, 2, 1, 1, 3, 1, 1, 1, 0, 1, 1, 0, 0, 1, 0, 0, 1, 1]"
      ]
     },
     "execution_count": 41,
     "metadata": {},
     "output_type": "execute_result"
    }
   ],
   "source": [
    "freq2"
   ]
  },
  {
   "cell_type": "code",
   "execution_count": 43,
   "id": "6fe34023",
   "metadata": {},
   "outputs": [
    {
     "data": {
      "text/html": [
       "<div>\n",
       "<style scoped>\n",
       "    .dataframe tbody tr th:only-of-type {\n",
       "        vertical-align: middle;\n",
       "    }\n",
       "\n",
       "    .dataframe tbody tr th {\n",
       "        vertical-align: top;\n",
       "    }\n",
       "\n",
       "    .dataframe thead th {\n",
       "        text-align: right;\n",
       "    }\n",
       "</style>\n",
       "<table border=\"1\" class=\"dataframe\">\n",
       "  <thead>\n",
       "    <tr style=\"text-align: right;\">\n",
       "      <th></th>\n",
       "      <th>our</th>\n",
       "      <th>furry</th>\n",
       "      <th>surfing</th>\n",
       "      <th>water</th>\n",
       "      <th>story</th>\n",
       "      <th>is</th>\n",
       "      <th>this</th>\n",
       "      <th>fun</th>\n",
       "      <th>popular</th>\n",
       "      <th>are</th>\n",
       "      <th>catching</th>\n",
       "      <th>waves</th>\n",
       "      <th>canine</th>\n",
       "      <th>pets</th>\n",
       "      <th>sport</th>\n",
       "      <th>animals</th>\n",
       "      <th>dogs</th>\n",
       "      <th>a</th>\n",
       "      <th>about</th>\n",
       "    </tr>\n",
       "  </thead>\n",
       "  <tbody>\n",
       "    <tr>\n",
       "      <th>0</th>\n",
       "      <td>1</td>\n",
       "      <td>1</td>\n",
       "      <td>0</td>\n",
       "      <td>0</td>\n",
       "      <td>1</td>\n",
       "      <td>1</td>\n",
       "      <td>1</td>\n",
       "      <td>0</td>\n",
       "      <td>0</td>\n",
       "      <td>1</td>\n",
       "      <td>0</td>\n",
       "      <td>0</td>\n",
       "      <td>1</td>\n",
       "      <td>1</td>\n",
       "      <td>0</td>\n",
       "      <td>1</td>\n",
       "      <td>2</td>\n",
       "      <td>1</td>\n",
       "      <td>1</td>\n",
       "    </tr>\n",
       "    <tr>\n",
       "      <th>1</th>\n",
       "      <td>0</td>\n",
       "      <td>0</td>\n",
       "      <td>2</td>\n",
       "      <td>1</td>\n",
       "      <td>1</td>\n",
       "      <td>3</td>\n",
       "      <td>1</td>\n",
       "      <td>1</td>\n",
       "      <td>1</td>\n",
       "      <td>0</td>\n",
       "      <td>1</td>\n",
       "      <td>1</td>\n",
       "      <td>0</td>\n",
       "      <td>0</td>\n",
       "      <td>1</td>\n",
       "      <td>0</td>\n",
       "      <td>0</td>\n",
       "      <td>1</td>\n",
       "      <td>1</td>\n",
       "    </tr>\n",
       "  </tbody>\n",
       "</table>\n",
       "</div>"
      ],
      "text/plain": [
       "   our  furry  surfing  water  story  is  this  fun  popular  are  catching  \\\n",
       "0    1      1        0      0      1   1     1    0        0    1         0   \n",
       "1    0      0        2      1      1   3     1    1        1    0         1   \n",
       "\n",
       "   waves  canine  pets  sport  animals  dogs  a  about  \n",
       "0      0       1     1      0        1     2  1      1  \n",
       "1      1       0     0      1        0     0  1      1  "
      ]
     },
     "execution_count": 43,
     "metadata": {},
     "output_type": "execute_result"
    }
   ],
   "source": [
    "import pandas as pd\n",
    "pd.DataFrame(data=[freq1,freq2], columns=all_freq)"
   ]
  },
  {
   "cell_type": "markdown",
   "id": "bbf779eb",
   "metadata": {},
   "source": [
    "# Part2:  Feature Extraction using sklearn"
   ]
  },
  {
   "cell_type": "code",
   "execution_count": 44,
   "id": "6f87949d",
   "metadata": {},
   "outputs": [],
   "source": [
    "txt = ['This is line',\n",
    "      'This is another line',\n",
    "      'Completely different line']"
   ]
  },
  {
   "cell_type": "markdown",
   "id": "850baf4e",
   "metadata": {},
   "source": [
    "## CountVectorizer"
   ]
  },
  {
   "cell_type": "code",
   "execution_count": 45,
   "id": "49400f9b",
   "metadata": {},
   "outputs": [],
   "source": [
    "from sklearn.feature_extraction.text import TfidfTransformer, TfidfVectorizer, CountVectorizer"
   ]
  },
  {
   "cell_type": "code",
   "execution_count": 46,
   "id": "69b79b8a",
   "metadata": {},
   "outputs": [],
   "source": [
    "cv = CountVectorizer()"
   ]
  },
  {
   "cell_type": "code",
   "execution_count": 48,
   "id": "57c38e9a",
   "metadata": {},
   "outputs": [],
   "source": [
    "sp_mat = cv.fit_transform(txt)"
   ]
  },
  {
   "cell_type": "code",
   "execution_count": null,
   "id": "e22a6217",
   "metadata": {},
   "outputs": [],
   "source": []
  }
 ],
 "metadata": {
  "kernelspec": {
   "display_name": "Python 3 (ipykernel)",
   "language": "python",
   "name": "python3"
  },
  "language_info": {
   "codemirror_mode": {
    "name": "ipython",
    "version": 3
   },
   "file_extension": ".py",
   "mimetype": "text/x-python",
   "name": "python",
   "nbconvert_exporter": "python",
   "pygments_lexer": "ipython3",
   "version": "3.11.3"
  }
 },
 "nbformat": 4,
 "nbformat_minor": 5
}
